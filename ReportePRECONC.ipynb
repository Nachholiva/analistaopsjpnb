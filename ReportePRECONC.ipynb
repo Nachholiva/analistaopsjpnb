{
 "cells": [
  {
   "cell_type": "markdown",
   "id": "e215154a-61c5-44f0-842d-4231183fc195",
   "metadata": {},
   "source": [
    "Analisis casos manuales"
   ]
  },
  {
   "cell_type": "code",
   "execution_count": null,
   "id": "fa08de82-4a0b-4385-b4f6-6aa6b5ce38c4",
   "metadata": {},
   "outputs": [],
   "source": [
    "import sys\n",
    "import os\n",
    "import pandas as pd\n",
    "from datetime import datetime,timedelta\n",
    "import tkinter as tk\n",
    "from tkinter import filedialog\n",
    "import pandas as pd\n",
    "import matplotlib.pyplot as plt\n",
    "import matplotlib.ticker as ticker\n",
    "import matplotlib.dates as mdates\n",
    "\n",
    "username = os.getlogin()\n",
    "hoy = datetime.now()\n",
    "ayer = (datetime.now() - timedelta(days=1))\n",
    "fecha_actual = hoy.strftime(\"%d.%m.%Y\")\n",
    "formatofecha = hoy.strftime(\"%Y-%m-%d\")\n",
    "formatofinal = hoy.strftime(\"%d-%m-%Y\")\n",
    "df1 = pd.DataFrame\n",
    "df1 = pd.read_excel('C:\\\\Users\\\\' + username + '\\\\Documents\\\\Py\\\\CASOS\\\\tablacasosmanuales.xlsx',\n",
    "                    sheet_name='Sheet1',header=0,\n",
    "                    names=['caso','agencia','tdep','contacto','estado','asunto','cierre','montocierre','depositado','banco','creadopor','fapertura','fmodificacion','alias','aliasum'])\n",
    "\n",
    "df1.fillna('null', inplace=True)\n",
    "# print(df1['fmodificacion'].dtype)\n",
    "# print(hoy)\n",
    "# print(ayer)\n",
    "print(\"Tabla cargada.\")"
   ]
  },
  {
   "cell_type": "markdown",
   "id": "174a9e06-532b-46b8-bc12-bc48d72aca3f",
   "metadata": {},
   "source": [
    "Obtener la ocurrencia de tipo de caso\n",
    "\n",
    "Reemplazar tipo de caso y periodicidad"
   ]
  },
  {
   "cell_type": "code",
   "execution_count": null,
   "id": "7c33d6e1-91a2-438d-a92e-0a161beff733",
   "metadata": {},
   "outputs": [],
   "source": [
    "dfp = df1.copy()\n",
    "dfp = dfp[~dfp['tdep'].str.startswith('Problema cartola')]\n",
    "periodicity = dfp[dfp['aliasum'].str.contains('procom')].groupby(dfp['fapertura'].dt.to_period('D'))['caso'].count()\n",
    "periodicitypc = df1[df1['tdep'].str.contains('Problema cartola')].groupby(df1['fapertura'].dt.to_period('D'))['caso'].count()\n",
    "dfr = periodicity.resample('m').sum()\n",
    "dfpc = periodicitypc.resample('m').sum()\n",
    "# dfr.sort_values('fapertura',ascending=True)\n",
    "print(dfr)\n",
    "# print(count)\n",
    "# print(count.mean())"
   ]
  },
  {
   "cell_type": "code",
   "execution_count": null,
   "id": "ec574446",
   "metadata": {},
   "outputs": [],
   "source": [
    "dfpc.plot(kind='barh',x='count')\n",
    "plt.title('Casos Problema Cartola')\n",
    "plt.xlabel('Cantidad de casos')\n",
    "plt.ylabel('Periodo', fontsize = 14)\n",
    "plt.show()"
   ]
  },
  {
   "cell_type": "code",
   "execution_count": null,
   "id": "8e3e9c8b",
   "metadata": {},
   "outputs": [],
   "source": [
    "dfr.plot(kind='barh',y='count',figsize= (10,5))\n",
    "\n",
    "plt.tight_layout()\n",
    "plt.title('Casos Pre-Conciliados')\n",
    "plt.xlabel('Cantidad de casos')\n",
    "plt.ylabel('Periodo', fontsize = 14)\n",
    "plt.show()"
   ]
  }
 ],
 "metadata": {
  "kernelspec": {
   "display_name": "base",
   "language": "python",
   "name": "python3"
  },
  "language_info": {
   "codemirror_mode": {
    "name": "ipython",
    "version": 3
   },
   "file_extension": ".py",
   "mimetype": "text/x-python",
   "name": "python",
   "nbconvert_exporter": "python",
   "pygments_lexer": "ipython3",
   "version": "3.11.7"
  }
 },
 "nbformat": 4,
 "nbformat_minor": 5
}
