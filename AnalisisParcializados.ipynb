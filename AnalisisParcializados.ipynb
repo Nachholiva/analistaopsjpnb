{
 "cells": [
  {
   "cell_type": "markdown",
   "id": "e215154a-61c5-44f0-842d-4231183fc195",
   "metadata": {},
   "source": [
    "# Análisis abonos casos parcializados $200.000"
   ]
  },
  {
   "cell_type": "code",
   "execution_count": null,
   "id": "5319288b",
   "metadata": {},
   "outputs": [],
   "source": [
    "import os\n",
    "import pandas as pd\n",
    "import datetime\n",
    "import numpy as np\n",
    "import matplotlib.pyplot as plt\n",
    "\n",
    "username = os.getlogin()\n",
    "hoy = datetime.datetime.now()\n",
    "dt_fmt = \"%d.%m.%Y\"\n",
    "dt_fmtexport = \"%d-%m-%Y\"\n",
    "dt_fmtcartola = \"%d/%m/%Y\"\n",
    "dt_fmtcarga = \"%Y%m%d\"\n",
    "dt_fmtcasos = \"%d-%m-%Y %H:%M\"\n",
    "fecha_actual = hoy.strftime(dt_fmtexport)\n",
    "\n",
    "lowmemory=False\n",
    "\n",
    "df_casos = pd.DataFrame()\n",
    "\n",
    "print(\"Cargando archivos...\")\n",
    "file_path = f'C:\\\\Users\\\\{username}\\\\Documents\\\\Py\\\\CASOS\\\\tablacasosanalisisparc.xlsx'\n",
    "df_casos = pd.read_excel(file_path,\n",
    "                    sheet_name='Historial casos Manuales',header=0,\n",
    "                    names=['caso','agencia','tdep','contacto','asunto','cierre','montocierre','depositado','banco','user','fapertura','fmod','alias','usermod'])\n",
    "\n",
    "folder_path = f'C:\\\\Users\\\\{username}\\\\Documents\\\\Py\\\\CARGASSAP\\\\ANALISIS\\\\CARGAS'\n",
    "\n",
    "df_list = []\n",
    "files = [f for f in os.listdir(folder_path) if f.endswith('.csv')]\n",
    "for file in files:\n",
    "    df = pd.read_csv(os.path.join(folder_path, file),\n",
    "                        sep=';',header=None,\n",
    "                        engine='python',\n",
    "                        #dtype='int64'\n",
    "                        )\n",
    "    df_list.append(df)\n",
    "df_cargas = pd.concat(df_list)\n",
    "df_cargas = df_cargas.dropna(axis=1)\n",
    "df_cargas.columns = ['flowid','counter','account','period','post','constant1','sa','gl','monto','indcont','user','ref','agencia','doc']\n",
    "\n",
    "df_casos['tdep'] = df_casos['tdep'].astype(str)\n",
    "df_casos.fillna('null', inplace=True)\n",
    "df_casos['fapertura'] = pd.to_datetime(df_casos['fapertura'],format = dt_fmtcasos)\n",
    "df_casos['fmod'] = pd.to_datetime(df_casos['fmod'],format = dt_fmtexport)\n",
    "\n",
    "df_cargas['agencia'] = df_cargas['agencia'].replace('AG. ','',regex=True)\n",
    "df_cargas['agencia'] = df_cargas['agencia'].str.slice(0,-3)\n",
    "df_cargas['post'] = pd.to_datetime((df_cargas['post'].astype(str)),format=dt_fmtcarga)\n",
    "df_cargas['doc'] = pd.to_datetime((df_cargas['doc'].astype(str)),format=dt_fmtcarga)\n",
    "\n",
    "print(\"Tablas cargadas.\")"
   ]
  },
  {
   "cell_type": "code",
   "execution_count": 22,
   "id": "42551adf",
   "metadata": {},
   "outputs": [],
   "source": [
    "df_casos = df_casos[df_casos['fapertura'] > pd.to_datetime('10-01-2025',format=dt_fmtexport)]\n",
    "df_casos = df_casos[df_casos['asunto'] != 'Conciliacion manual B2B - TS']\n",
    "\n",
    "df_cargas_13 = df_cargas[df_cargas['doc'] == pd.to_datetime('13-01-2025',format=dt_fmtexport)]\n",
    "df_cargas_14 = df_cargas[df_cargas['doc'] == pd.to_datetime('14-01-2025',format=dt_fmtexport)]\n",
    "\n",
    "pd.to_numeric(df_cargas_13['agencia'],errors='coerce')\n",
    "pd.to_numeric(df_cargas_14['agencia'],errors='coerce')\n",
    "pd.to_numeric(df_casos['agencia'],errors='coerce')\n",
    "\n",
    "#df_cargas['agencia'] = df_cargas['agencia'].astype(int)\n",
    "\n",
    "df_cargas_adosc_13 = df_cargas_13[df_cargas_13['monto'] == 200000]\n",
    "count_dosc_13 = df_cargas_adosc_13.shape[0]\n",
    "count_adosc_13 = df_cargas_adosc_13.groupby('agencia').size().reset_index(name='count').sort_values(by='count',ascending=False)\n",
    "count_adosc_13['agencia'] = count_adosc_13['agencia'].astype(int)\n",
    "\n",
    "df_cargas_adosc_14 = df_cargas_14[df_cargas_14['monto'] == 200000]\n",
    "count_dosc_14 = df_cargas_adosc_14.shape[0]\n",
    "count_adosc_14 = df_cargas_adosc_14.groupby('agencia').size().reset_index(name='count').sort_values(by='count',ascending=False)\n",
    "count_adosc_14['agencia'] = count_adosc_14['agencia'].astype(int)\n",
    "\n",
    "df_casos_parc = df_casos[df_casos['tdep'] == \"Parcializado\"]\n",
    "df_casos_pc = df_casos[df_casos['usermod']== \"procom\"]\n",
    "df_casos_parc_pc = df_casos[(df_casos['tdep'] == \"Parcializado\") & (df_casos['usermod']== \"procom\")]\n"
   ]
  },
  {
   "cell_type": "code",
   "execution_count": 23,
   "id": "af97b155",
   "metadata": {},
   "outputs": [],
   "source": [
    "df_merge_13 = pd.merge(df_casos_parc,count_adosc_13, left_on='agencia', right_on='agencia')\n",
    "df_merge_13_14 = pd.merge(count_adosc_13,count_adosc_14,on='agencia', how='outer')\n",
    "df_countab = pd.concat([count_adosc_13,count_adosc_14],axis=1)"
   ]
  },
  {
   "cell_type": "code",
   "execution_count": null,
   "id": "792bb36b",
   "metadata": {},
   "outputs": [],
   "source": [
    "nagencia = 223001\n",
    "df_cargas_adosc_ag_13 = df_cargas_adosc_13[df_cargas_adosc_13['agencia'].astype(int) == nagencia]\n",
    "df_cargas_adosc_ag_14 = df_cargas_adosc_14[df_cargas_adosc_14['agencia'].astype(int) == nagencia]\n",
    "\n",
    "print (df_cargas_adosc_ag_13.shape[0])\n",
    "print (df_cargas_adosc_ag_14.shape[0])\n"
   ]
  },
  {
   "cell_type": "code",
   "execution_count": null,
   "id": "9ca29b6d",
   "metadata": {},
   "outputs": [],
   "source": []
  },
  {
   "cell_type": "code",
   "execution_count": null,
   "id": "e73e5a82",
   "metadata": {},
   "outputs": [],
   "source": []
  }
 ],
 "metadata": {
  "kernelspec": {
   "display_name": "Python 3",
   "language": "python",
   "name": "python3"
  },
  "language_info": {
   "codemirror_mode": {
    "name": "ipython",
    "version": 3
   },
   "file_extension": ".py",
   "mimetype": "text/x-python",
   "name": "python",
   "nbconvert_exporter": "python",
   "pygments_lexer": "ipython3",
   "version": "3.12.2"
  }
 },
 "nbformat": 4,
 "nbformat_minor": 5
}
