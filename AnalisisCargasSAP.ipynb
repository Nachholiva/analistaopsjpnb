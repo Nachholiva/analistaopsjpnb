{
 "cells": [
  {
   "cell_type": "markdown",
   "id": "e215154a-61c5-44f0-842d-4231183fc195",
   "metadata": {},
   "source": [
    "# Análisis archivo de cargas SAP"
   ]
  },
  {
   "cell_type": "code",
   "execution_count": null,
   "id": "fa08de82-4a0b-4385-b4f6-6aa6b5ce38c4",
   "metadata": {},
   "outputs": [],
   "source": [
    "import pandas as pd\n",
    "import datetime\n",
    "import os\n",
    "from tkinter import filedialog\n",
    "\n",
    "username = os.getlogin()\n",
    "\n",
    "hoy = datetime.datetime.now()\n",
    "date_format = \"%d.%m.%Y\"\n",
    "date_formatexport = \"%d-%m-%Y\"\n",
    "date_formatcartola = \"%d/%m/%Y\"\n",
    "date_formatcarga = \"%Y%m%d\"\n",
    "fecha_actual = hoy.strftime(date_format)\n",
    "fecha_cartola = hoy.strftime(date_formatexport)\n",
    "\n",
    "folder_path = 'C:\\\\Users\\\\' + username + '\\\\Documents\\\\Py\\\\CARGASSAP\\\\ANALISIS'\n",
    "\n",
    "print(\"Cargando archivos...\")\n",
    "df_list = []\n",
    "files = [f for f in os.listdir(folder_path) if f.endswith('.csv')]\n",
    "for file in files:\n",
    "    df = pd.read_csv(os.path.join(folder_path, file),\n",
    "                        sep=';',header=None,\n",
    "                        engine='python',\n",
    "                        #dtype='int64'\n",
    "                        )\n",
    "    df_list.append(df)\n",
    "df_cargas = pd.concat(df_list)\n",
    "df_cargas = df_cargas.dropna(axis=1)\n",
    "df_cargas['agencia'] = df_cargas['agencia'].replace('AG. ','',regex=True).str.slice(0,-3)\n",
    "df_cargas['agencia'] = df_cargas['agencia'].str.slice(0,-3)\n",
    "df_cargas['post'] = pd.to_datetime((df_cargas['post'].astype(str)),format=date_formatcarga)\n",
    "df_cargas['doc'] = pd.to_datetime((df_cargas['doc'].astype(str)),format=date_formatcarga)\n",
    "                       \n",
    "df_cargas.columns = ['flowid','counter','account','period','post','constant1','sa','gl','monto','indcont','user','ref','agencia','doc']\n",
    "\n",
    "df_parc = pd.read_csv('C:\\\\Users\\\\' + username + '\\\\Documents\\\\Py\\\\CARGASSAP\\\\PARCIALIZADOS\\\\conteoparcializados.csv',\n",
    "                        sep=',',\n",
    "                        names=['agencia','count'],\n",
    "                        header='infer',\n",
    "                        date_format=date_formatcarga)\n",
    "\n",
    "\n"
   ]
  },
  {
   "cell_type": "code",
   "execution_count": 2,
   "id": "42551adf",
   "metadata": {},
   "outputs": [],
   "source": [
    "df_adosc = df_cargas[df_cargas['monto'] == 200000]\n",
    "count_adosc = df_adosc.groupby('agencia').size().reset_index(name='count').sort_values(by='count',ascending=False)\n",
    "df_acien = df_cargas[df_cargas['monto'] == 100000]\n",
    "count_acien = df_acien.groupby('agencia').size().reset_index(name='count').sort_values(by='count',ascending=False)\n",
    "\n",
    "\n",
    "df_depositos = pd.merge(count_adosc,count_acien,on='agencia',how='outer')\n",
    "df_depositos.columns = ['agencia','depdosc','depcien']\n",
    "df_depositos = pd.merge(df_depositos,df_parc,on='agencia',how='left')\n",
    "df_depositos['depdosc'] = df_depositos['depdosc'].fillna('0').astype(int)\n",
    "df_depositos['depcien'] = df_depositos['depcien'].fillna('0').astype(int)\n",
    "df_depositos['count'] = df_depositos['count'].fillna('0').astype(int)"
   ]
  },
  {
   "cell_type": "code",
   "execution_count": null,
   "id": "e73e5a82",
   "metadata": {},
   "outputs": [],
   "source": [
    "df_adosc= df_adosc[df_adosc['doc'] <= '2024-12-30']\n",
    "df_adosc= df_adosc[df_adosc['doc'] >= '2024-12-01']\n",
    "df_adosc['monto'].sum()\n",
    "freq_adosc = df_adosc.groupby(['doc', 'monto']).size().reset_index(name='frequency')\n",
    "print(freq_adosc)\n"
   ]
  }
 ],
 "metadata": {
  "kernelspec": {
   "display_name": "base",
   "language": "python",
   "name": "python3"
  },
  "language_info": {
   "codemirror_mode": {
    "name": "ipython",
    "version": 3
   },
   "file_extension": ".py",
   "mimetype": "text/x-python",
   "name": "python",
   "nbconvert_exporter": "python",
   "pygments_lexer": "ipython3",
   "version": "3.11.7"
  }
 },
 "nbformat": 4,
 "nbformat_minor": 5
}
