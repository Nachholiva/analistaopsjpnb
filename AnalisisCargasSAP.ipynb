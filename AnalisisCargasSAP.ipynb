{
 "cells": [
  {
   "cell_type": "markdown",
   "id": "e215154a-61c5-44f0-842d-4231183fc195",
   "metadata": {},
   "source": [
    "# Análisis archivo de cargas SAP"
   ]
  },
  {
   "cell_type": "code",
   "execution_count": 1,
   "id": "fa08de82-4a0b-4385-b4f6-6aa6b5ce38c4",
   "metadata": {},
   "outputs": [
    {
     "name": "stdout",
     "output_type": "stream",
     "text": [
      "Cargando archivos...\n"
     ]
    }
   ],
   "source": [
    "import pandas as pd\n",
    "import datetime\n",
    "import os\n",
    "from tkinter import filedialog\n",
    "\n",
    "username = os.getlogin()\n",
    "\n",
    "hoy = datetime.datetime.now()\n",
    "date_format = \"%d.%m.%Y\"\n",
    "date_formatexport = \"%d-%m-%Y\"\n",
    "date_formatcartola = \"%d/%m/%Y\"\n",
    "date_formatcarga = \"%Y%m%d\"\n",
    "fecha_actual = hoy.strftime(date_format)\n",
    "fecha_cartola = hoy.strftime(date_formatexport)\n",
    "\n",
    "folder_path = 'C:\\\\Users\\\\' + username + '\\\\Documents\\\\Py\\\\CARGASSAP\\\\ANALISIS'\n",
    "\n",
    "print(\"Cargando archivos...\")\n",
    "df_list = []\n",
    "files = [f for f in os.listdir(folder_path) if f.endswith('.csv')]\n",
    "for file in files:\n",
    "    df = pd.read_csv(os.path.join(folder_path, file),\n",
    "                        sep=';',header=None,\n",
    "                        engine='python',\n",
    "                        #dtype='int64'\n",
    "                        )\n",
    "    df_list.append(df)\n",
    "df_cargas = pd.concat(df_list)\n",
    "df_cargas = df_cargas.dropna(axis=1)\n",
    "df_cargas['agencia'] = df_cargas['agencia'].replace('AG. ','',regex=True).str.slice(0,-3)\n",
    "df_cargas['agencia'] = df_cargas['agencia'].str.slice(0,-3)\n",
    "df_cargas['post'] = pd.to_datetime((df_cargas['post'].astype(str)),format=date_formatcarga)\n",
    "df_cargas['doc'] = pd.to_datetime((df_cargas['doc'].astype(str)),format=date_formatcarga)\n",
    "                       \n",
    "df_cargas.columns = ['flowid','counter','account','period','post','constant1','sa','gl','monto','indcont','user','ref','agencia','doc']\n",
    "\n",
    "df_parc = pd.read_csv('C:\\\\Users\\\\' + username + '\\\\Documents\\\\Py\\\\CARGASSAP\\\\PARCIALIZADOS\\\\conteoparcializados.csv',\n",
    "                        sep=',',\n",
    "                        names=['agencia','count'],\n",
    "                        header='infer',\n",
    "                        date_format=date_formatcarga)\n",
    "\n",
    "\n"
   ]
  },
  {
   "cell_type": "code",
   "execution_count": 2,
   "id": "42551adf",
   "metadata": {},
   "outputs": [],
   "source": [
    "df_adosc = df_cargas[df_cargas['monto'] == 200000]\n",
    "count_adosc = df_adosc.groupby('agencia').size().reset_index(name='count').sort_values(by='count',ascending=False)\n",
    "df_acien = df_cargas[df_cargas['monto'] == 100000]\n",
    "count_acien = df_acien.groupby('agencia').size().reset_index(name='count').sort_values(by='count',ascending=False)\n",
    "\n",
    "\n",
    "df_depositos = pd.merge(count_adosc,count_acien,on='agencia',how='outer')\n",
    "df_depositos.columns = ['agencia','depdosc','depcien']\n",
    "df_depositos = pd.merge(df_depositos,df_parc,on='agencia',how='left')\n",
    "df_depositos['depdosc'] = df_depositos['depdosc'].fillna('0').astype(int)\n",
    "df_depositos['depcien'] = df_depositos['depcien'].fillna('0').astype(int)\n",
    "df_depositos['count'] = df_depositos['count'].fillna('0').astype(int)"
   ]
  },
  {
   "cell_type": "code",
   "execution_count": 3,
   "id": "e73e5a82",
   "metadata": {},
   "outputs": [
    {
     "name": "stdout",
     "output_type": "stream",
     "text": [
      "          doc   monto  frequency\n",
      "0  2024-12-02  200000         86\n",
      "1  2024-12-03  200000         89\n",
      "2  2024-12-04  200000         49\n",
      "3  2024-12-05  200000         67\n",
      "4  2024-12-06  200000         60\n",
      "5  2024-12-09  200000         76\n",
      "6  2024-12-10  200000         47\n",
      "7  2024-12-11  200000         28\n",
      "8  2024-12-12  200000         24\n",
      "9  2024-12-13  200000         30\n",
      "10 2024-12-16  200000         34\n",
      "11 2024-12-17  200000          6\n",
      "12 2024-12-18  200000         34\n",
      "13 2024-12-19  200000         34\n",
      "14 2024-12-20  200000         35\n",
      "15 2024-12-23  200000         34\n",
      "16 2024-12-24  200000         32\n",
      "17 2024-12-26  200000         23\n",
      "18 2024-12-27  200000         34\n",
      "19 2024-12-30  200000         59\n"
     ]
    }
   ],
   "source": [
    "df_adosc= df_adosc[df_adosc['doc'] <= '2024-12-30']\n",
    "df_adosc= df_adosc[df_adosc['doc'] >= '2024-12-01']\n",
    "df_adosc['monto'].sum()\n",
    "freq_adosc = df_adosc.groupby(['doc', 'monto']).size().reset_index(name='frequency')\n",
    "print(freq_adosc)\n"
   ]
  }
 ],
 "metadata": {
  "kernelspec": {
   "display_name": "base",
   "language": "python",
   "name": "python3"
  },
  "language_info": {
   "codemirror_mode": {
    "name": "ipython",
    "version": 3
   },
   "file_extension": ".py",
   "mimetype": "text/x-python",
   "name": "python",
   "nbconvert_exporter": "python",
   "pygments_lexer": "ipython3",
   "version": "3.11.7"
  }
 },
 "nbformat": 4,
 "nbformat_minor": 5
}
