{
 "cells": [
  {
   "cell_type": "markdown",
   "id": "e215154a-61c5-44f0-842d-4231183fc195",
   "metadata": {},
   "source": [
    "# Análisis archivo de cargas SAP"
   ]
  },
  {
   "cell_type": "code",
   "execution_count": 5,
   "id": "fa08de82-4a0b-4385-b4f6-6aa6b5ce38c4",
   "metadata": {},
   "outputs": [
    {
     "name": "stdout",
     "output_type": "stream",
     "text": [
      "Cargando archivos...\n"
     ]
    }
   ],
   "source": [
    "import pandas as pd\n",
    "import datetime\n",
    "import os\n",
    "from tkinter import filedialog\n",
    "\n",
    "username = os.getlogin()\n",
    "\n",
    "hoy = datetime.datetime.now()\n",
    "date_format = \"%d.%m.%Y\"\n",
    "date_formatexport = \"%d-%m-%Y\"\n",
    "date_formatcartola = \"%d/%m/%Y\"\n",
    "date_formatcarga = \"%Y%m%d\"\n",
    "fecha_actual = hoy.strftime(date_format)\n",
    "fecha_cartola = hoy.strftime(date_formatexport)\n",
    "\n",
    "folder_path = 'C:\\\\Users\\\\' + username + '\\\\Documents\\\\Py\\\\CARGASSAP\\\\ANALISIS'\n",
    "\n",
    "print(\"Cargando archivos...\")\n",
    "df_list = []\n",
    "files = [f for f in os.listdir(folder_path) if f.endswith('.csv')]\n",
    "for file in files:\n",
    "    df = pd.read_csv(os.path.join(folder_path, file),\n",
    "                        sep=';',header=None,\n",
    "                        engine='python',\n",
    "                        #dtype='int64'\n",
    "                        )\n",
    "    df_list.append(df)\n",
    "df_cargas = pd.concat(df_list)\n",
    "df_cargas = df_cargas.dropna(axis=1)\n",
    "                       \n",
    "df_cargas.columns = ['flowid','counter','account','period','post','constant1','sa','gl','monto','indcont','user','ref','agencia','doc']\n",
    "\n",
    "df_parc = pd.read_csv('C:\\\\Users\\\\' + username + '\\\\Documents\\\\Py\\\\CARGASSAP\\\\PARCIALIZADOS\\\\conteoparcializados.csv',\n",
    "                        sep=',',\n",
    "                        names=['agencia','count'],\n",
    "                        header='infer')\n",
    "\n",
    "#df_cg['monto'] = df['monto'].astype(int)\n",
    "\n",
    "#df_ident = pd.merge(df, df_agencias, how='left', left_on='monto', right_on='monto')\n",
    "df_cargas['agencia'] = df_cargas['agencia'].replace('AG. ','',regex=True)\n",
    "df_cargas['agencia'] = df_cargas['agencia'].str.slice(0,-3)\n",
    "\n",
    "df_adosc = df_cargas[df_cargas['monto'] == 200000]\n",
    "count_adosc = df_adosc.groupby('agencia').size().reset_index(name='count').sort_values(by='count',ascending=False)\n",
    "df_acien = df_cargas[df_cargas['monto'] == 100000]\n",
    "count_acien = df_acien.groupby('agencia').size().reset_index(name='count').sort_values(by='count',ascending=False)\n",
    "\n",
    "df_depositos = pd.merge(count_adosc,count_acien,on='agencia',how='outer')\n",
    "df_depositos.columns = ['agencia','depdosc','depcien']\n",
    "df_depositos = pd.merge(df_depositos,df_parc,on='agencia',how='left')\n",
    "df_depositos['depdosc'] = df_depositos['depdosc'].fillna('0').astype(int)\n",
    "df_depositos['depcien'] = df_depositos['depcien'].fillna('0').astype(int)\n",
    "df_depositos['count'] = df_depositos['count'].fillna('0').astype(int)"
   ]
  },
  {
   "cell_type": "code",
   "execution_count": 17,
   "id": "e73e5a82",
   "metadata": {},
   "outputs": [],
   "source": [
    "df1.to_csv('C:\\\\Users\\\\' + username + '\\\\Documents\\\\Py\\\\DEVOLTX\\\\Reporte CARGAS' + fecha_actual + '.csv',\n",
    "            sep=';',\n",
    "            header=False,\n",
    "            index=False)"
   ]
  },
  {
   "cell_type": "code",
   "execution_count": 5,
   "id": "eeb62e52-1aff-4b07-a69c-a0ee5458a5a7",
   "metadata": {},
   "outputs": [],
   "source": [
    "tipos_fecha = df1['fecha'].unique()\n",
    "tipos_sucursal = df1['sucursal'].unique()\n",
    "tipos_operacion = df1['operacion'].unique()\n",
    "tipos_descripcion = df1['descripcion'].unique()"
   ]
  }
 ],
 "metadata": {
  "kernelspec": {
   "display_name": "base",
   "language": "python",
   "name": "python3"
  },
  "language_info": {
   "codemirror_mode": {
    "name": "ipython",
    "version": 3
   },
   "file_extension": ".py",
   "mimetype": "text/x-python",
   "name": "python",
   "nbconvert_exporter": "python",
   "pygments_lexer": "ipython3",
   "version": "3.11.7"
  }
 },
 "nbformat": 4,
 "nbformat_minor": 5
}
