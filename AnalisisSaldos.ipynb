{
 "cells": [
  {
   "cell_type": "code",
   "execution_count": 3,
   "id": "fa08de82-4a0b-4385-b4f6-6aa6b5ce38c4",
   "metadata": {},
   "outputs": [],
   "source": [
    "import os\n",
    "import datetime\n",
    "import pandas as pd\n",
    "import numpy as np\n",
    "import matplotlib.pyplot as plt\n",
    "import matplotlib.ticker as ticker\n",
    "\n",
    "username = os.getlogin()            \n",
    "hoy = datetime.datetime.now()\n",
    "fecha_actual = hoy.strftime(\"%d.%m.%Y\")\n",
    "\n",
    "file_path = 'C:\\\\Users\\\\dxs81864\\\\Documents\\\\Py\\\\BECH CB\\\\HITES\\\\SALDOS.csv'\n",
    "df1 = pd.DataFrame\n",
    "\n",
    "df = pd.read_table(file_path,\n",
    "                       names=['mes','saldo'],\n",
    "                       sep=';',\n",
    "                       header=0,)\n",
    "df = df.set_index('mes')\n",
    "slims = [df['saldo'].min(),df['saldo'].max()]\n",
    "sticks = [90000000,0,-30000000]\n",
    "ssetticks = np.arange(-400000,100000,100000)\n",
    "arrsaldos = df['saldo'].to_numpy()\n",
    "arrmes = str(df.index)"
   ]
  },
  {
   "cell_type": "code",
   "execution_count": null,
   "id": "9970a5c0",
   "metadata": {},
   "outputs": [],
   "source": [
    "df.plot.bar(title='Saldos Hites',xlabel='Mes',ylabel='Saldo x 1M',figsize=(8,4))\n",
    "plt.gca().yaxis.set_major_formatter(ticker.FuncFormatter(lambda x, p:f'{int(x/1000000):,}'))\n",
    "plt.xticks(rotation=45, ha='right')\n",
    "plt.yticks(np.arange(-40000000,170000000,step=10000000))\n",
    "plt.show()"
   ]
  }
 ],
 "metadata": {
  "kernelspec": {
   "display_name": "base",
   "language": "python",
   "name": "python3"
  },
  "language_info": {
   "codemirror_mode": {
    "name": "ipython",
    "version": 3
   },
   "file_extension": ".py",
   "mimetype": "text/x-python",
   "name": "python",
   "nbconvert_exporter": "python",
   "pygments_lexer": "ipython3",
   "version": "3.11.7"
  }
 },
 "nbformat": 4,
 "nbformat_minor": 5
}
