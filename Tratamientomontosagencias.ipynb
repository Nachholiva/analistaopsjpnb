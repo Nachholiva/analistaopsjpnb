{
 "cells": [
  {
   "cell_type": "markdown",
   "id": "e215154a-61c5-44f0-842d-4231183fc195",
   "metadata": {},
   "source": [
    "# Reporte abonos cartolas BECH"
   ]
  },
  {
   "cell_type": "code",
   "execution_count": null,
   "id": "fa08de82-4a0b-4385-b4f6-6aa6b5ce38c4",
   "metadata": {},
   "outputs": [],
   "source": [
    "import os\n",
    "import datetime\n",
    "import tkinter as tk\n",
    "from tkinter import filedialog\n",
    "import pandas as pd\n",
    "from openpyxl import Workbook\n",
    "\n",
    "username = os.getlogin()            \n",
    "hoy = datetime.datetime.now()\n",
    "date_format = \"%d.%m.%Y\"\n",
    "date_formatexport = \"%d-%m-%Y\"\n",
    "fecha_actual = hoy.strftime(date_formatexport)\n",
    "fecha_cartola = hoy.strftime(date_format)\n",
    "\n",
    "df_mes = pd.DataFrame\n",
    "df_ajustes = pd.DataFrame\n",
    "alm = pd.DataFrame\n",
    "\n",
    "folder_path = 'C:\\\\Users\\\\' + username + '\\\\Documents\\\\Py\\\\IDENTIFICADOR\\\\AJUSTES'\n",
    "\n",
    "file = \"MONTOSXAGENCIA.csv\"\n",
    "    \n",
    "df = pd.read_csv(os.path.join(folder_path, file),\n",
    "                        sep=';',\n",
    "                        names=['agencia','monto'],\n",
    "                        header=0)\n",
    "df_agencias = df\n",
    "\n",
    "df_agencias.sort_values(by='monto', ascending=True, inplace=True)\n",
    "df_agencias.drop_duplicates(subset='monto',keep='first', inplace=True)\n",
    "\n",
    "print(\"Archivos cargados\")"
   ]
  },
  {
   "cell_type": "code",
   "execution_count": 2,
   "id": "2d8a8bcd",
   "metadata": {},
   "outputs": [],
   "source": [
    "df_agencias.to_excel('C:\\\\Users\\\\' + username + '\\\\Documents\\\\Py\\\\JPNB\\\\GENERADOS\\\\MONTOSXCIERRES.xlsx',\n",
    "            header=True,\n",
    "            index=False)"
   ]
  }
 ],
 "metadata": {
  "kernelspec": {
   "display_name": "Python 3",
   "language": "python",
   "name": "python3"
  },
  "language_info": {
   "codemirror_mode": {
    "name": "ipython",
    "version": 3
   },
   "file_extension": ".py",
   "mimetype": "text/x-python",
   "name": "python",
   "nbconvert_exporter": "python",
   "pygments_lexer": "ipython3",
   "version": "3.12.2"
  }
 },
 "nbformat": 4,
 "nbformat_minor": 5
}
