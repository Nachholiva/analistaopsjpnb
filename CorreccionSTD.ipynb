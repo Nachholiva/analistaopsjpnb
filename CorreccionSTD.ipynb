{
 "cells": [
  {
   "cell_type": "markdown",
   "id": "e215154a-61c5-44f0-842d-4231183fc195",
   "metadata": {},
   "source": [
    "CORRECCION STD\n"
   ]
  },
  {
   "cell_type": "code",
   "execution_count": 1,
   "id": "fa08de82-4a0b-4385-b4f6-6aa6b5ce38c4",
   "metadata": {},
   "outputs": [],
   "source": [
    "import sys\n",
    "import os\n",
    "from tkinter import filedialog\n",
    "import pandas as pd\n",
    "import datetime\n",
    "import re\n",
    "import locale\n",
    "\n",
    "locale.setlocale(locale.LC_ALL,'en_US')\n",
    "username = os.getlogin()\n",
    "hoy = datetime.datetime.now()\n",
    "fecha_actual = hoy.strftime(\"%d-%m-%Y%I-%M-%S %p\")"
   ]
  },
  {
   "cell_type": "code",
   "execution_count": null,
   "id": "7f59f0dd",
   "metadata": {},
   "outputs": [],
   "source": [
    "try:\n",
    "    print(\"Seleccione cartola principal.\")\n",
    "    fp1 = filedialog.askopenfilename(initialdir='C:\\\\Users\\\\' + username + '\\\\Documents\\\\Py\\\\STD',\n",
    "                                     title=\"Ubicar cartola provisoria principal\")\n",
    "    fp1 = fp1.replace(\"/\", \"\\\\\")\n",
    "    dfm = pd.read_table(fp1,\n",
    "                      header=None,\n",
    "                      encoding='latin-1',\n",
    "                      names=['registros'])\n",
    "    print(fp1)\n",
    "except FileNotFoundError:\n",
    "    print(\"Error al cargar cartola principal\")\n",
    "    print(\"\")"
   ]
  },
  {
   "cell_type": "code",
   "execution_count": null,
   "id": "f2cd9500",
   "metadata": {},
   "outputs": [],
   "source": [
    "\n",
    "try:\n",
    "    print(\"Seleccione cartola provisoria.\")\n",
    "    fp1 = filedialog.askopenfilename(initialdir='C:\\\\Users\\\\' + username + '\\\\Documents\\\\Py\\\\STD',\n",
    "                                     title=\"Ubicar cartola provisoria\")\n",
    "    fp1 = fp1.replace(\"/\", \"\\\\\")\n",
    "    dfp = pd.read_table(fp1,\n",
    "                      header=None,\n",
    "                      encoding='latin-1',\n",
    "                      names=['registros'])\n",
    "    print(fp1)\n",
    "except FileNotFoundError:\n",
    "    print(\"Error al cargar cartola provisoria\")\n",
    "    print(\"\")\n"
   ]
  },
  {
   "cell_type": "code",
   "execution_count": 5,
   "id": "135121b2",
   "metadata": {},
   "outputs": [],
   "source": [
    "df_main = dfm.copy()\n",
    "df_prov = dfp.copy()\n",
    "df_main['ind'] = 'MAIN'\n",
    "df_prov['ind'] = 'PROVISORIA'\n",
    "df_merge = pd.merge(df_main,df_prov,how='left',on=['registros'])\n",
    "df_merge = df_merge.sort_values('registros', ascending=True)\n",
    "df_prov = df_prov.sort_values('registros', ascending=True)"
   ]
  },
  {
   "cell_type": "code",
   "execution_count": 7,
   "id": "1b3ff10a",
   "metadata": {},
   "outputs": [],
   "source": [
    "df_overlap = df_main[df_main['registros'].str.startswith(\"2312\")]\n",
    "df_main = df_main[~df_main['registros'].str.startswith(\"2312\")]\n",
    "df_prov.drop(index=df_prov.index[0], axis=0, inplace=True)\n",
    "df_final = pd.concat([df_main,df_prov])\n",
    "df_final = df_final.drop(columns=['ind'])\n",
    "df_final.to_csv('C:\\\\Users\\\\' + username + '\\\\Documents\\\\Py\\\\STD\\\\GENERADOS\\\\000003490530' + fecha_actual,\n",
    "               encoding='latin-1',\n",
    "               header=False,\n",
    "               index=False)"
   ]
  },
  {
   "cell_type": "code",
   "execution_count": 3,
   "id": "5fea972e",
   "metadata": {},
   "outputs": [],
   "source": [
    "df_pxant = dfp[~dfp['registros'].str.startswith(\"0201\")]\n",
    "df_pxnuevos = dfp[dfp['registros'].str.startswith(\"0201\")]\n",
    "\n",
    "df_pxnuevos.to_csv('C:\\\\Users\\\\' + username + '\\\\Documents\\\\Py\\\\STD\\\\GENERADOS\\\\agregar' + fecha_actual,\n",
    "               encoding='latin-1',\n",
    "               header=False,\n",
    "               index=False)\n",
    "df_pxant.to_csv('C:\\\\Users\\\\' + username + '\\\\Documents\\\\Py\\\\STD\\\\GENERADOS\\\\000003490530' + fecha_actual,\n",
    "               encoding='latin-1',\n",
    "               header=False,\n",
    "               index=False)"
   ]
  },
  {
   "cell_type": "code",
   "execution_count": null,
   "id": "b860e00c",
   "metadata": {},
   "outputs": [],
   "source": []
  },
  {
   "cell_type": "code",
   "execution_count": null,
   "id": "63a0aac5",
   "metadata": {},
   "outputs": [],
   "source": [
    "\n",
    "df_merge = pd.merge(df_main,df_prov,how='left',on=['registros'])\n",
    "df_merge = df_merge.sort_values('registros', ascending=True)\n",
    "df_prov = df_prov.sort_values('registros', ascending=True)\n",
    "\n",
    "df_final2 = pd.concat([df_main,df_merge])"
   ]
  },
  {
   "cell_type": "code",
   "execution_count": null,
   "id": "ee4c29a1",
   "metadata": {},
   "outputs": [],
   "source": [
    "muestra1 = dfm.copy()\n",
    "muestra2 = dfp.copy()\n",
    "muestra1['ind'] = 'MAIN'\n",
    "muestra2['ind'] = 'PROVISORIA'\n",
    "muestramerge = pd.merge(muestra1,muestra2,how='right',on=['registros'])\n",
    "muestramerge = muestramerge.sort_values('registros', ascending=True)\n"
   ]
  },
  {
   "cell_type": "code",
   "execution_count": null,
   "id": "46a571d7",
   "metadata": {},
   "outputs": [],
   "source": [
    "muestra_abono = df_final[df_final['registros'].str.contains('Giacobbe')]\n",
    "print(muestra_abono)"
   ]
  },
  {
   "cell_type": "code",
   "execution_count": null,
   "id": "34ba147b",
   "metadata": {},
   "outputs": [],
   "source": [
    "df_dhna = df_prov[df_prov['registros'].isin(df_main['registros'])]\n",
    "df_dhna = df_dhna.sort_values('registros', ascending=True)\n",
    "df_dhna2 = df_prov[~df_prov['registros'].isin(df_main['registros'])]\n",
    "df_dhna2 = df_dhna2.sort_values('registros', ascending=True)\n"
   ]
  },
  {
   "cell_type": "code",
   "execution_count": null,
   "id": "399ba297",
   "metadata": {},
   "outputs": [],
   "source": [
    "df_neatmain = df_main[df_main['registros'].str.contains('NEATPAGOS', case=False)]\n",
    "df_neatprov = df_prov[df_prov['registros'].str.contains('NEATPAGOS', case=False)]"
   ]
  },
  {
   "cell_type": "code",
   "execution_count": null,
   "id": "d52a023e",
   "metadata": {},
   "outputs": [],
   "source": [
    "glosa = \"efectivo\"\n",
    "conteohistorica = df_main[df_main['registros'].str.contains(glosa, case=False)].shape[0]\n",
    "conteoprovisoria = df_prov[df_prov['registros'].str.contains(glosa, case=False)].shape[0]\n",
    "print (\"Historica: \" + str(conteohistorica))\n",
    "print (\"Provisoria: \" + str(conteoprovisoria))\n",
    "\n"
   ]
  },
  {
   "cell_type": "code",
   "execution_count": null,
   "id": "7e9c90ac",
   "metadata": {},
   "outputs": [],
   "source": [
    "\n",
    "df_efectivohist = df_main[df_main['registros'].str.contains(glosa, case=False)]\n",
    "df_efectivoprov = df_prov[df_prov['registros'].str.contains(glosa, case=False)]\n",
    "df_efectivohist = df_efectivohist.sort_values('registros', ascending=True)\n",
    "df_efectivoprov = df_efectivoprov.sort_values('registros', ascending=True)"
   ]
  },
  {
   "cell_type": "code",
   "execution_count": null,
   "id": "e680984c",
   "metadata": {},
   "outputs": [],
   "source": [
    "glosa = \"Efectivo\"\n",
    "conteohistorica = df_efectivohist[df_efectivohist['registros'].str.contains(glosa, case=False)].shape[0]\n",
    "conteoprovisoria = df_efectivoprov[df_efectivoprov['registros'].str.contains(glosa, case=False)].shape[0]\n",
    "print (\"Historica: \" + str(conteohistorica))\n",
    "print (\"Provisoria: \" + str(conteoprovisoria))\n",
    "\n",
    "muestra1 = df_efectivohist[df_efectivohist['registros'].str.contains(glosa, case=False)]\n",
    "muestra2 = df_efectivoprov[df_efectivoprov['registros'].str.contains(glosa, case=False)]\n",
    "muestramerge = pd.merge(muestra1,muestra2,how='left',on=['registros'])\n",
    "muestramerge = muestramerge.sort_values('registros', ascending=True)\n",
    "muestra = pd.concat([muestra1,muestra2])\n",
    "muestra = muestra.sort_values('registros', ascending=True)"
   ]
  },
  {
   "cell_type": "code",
   "execution_count": null,
   "id": "5ce5fb3b",
   "metadata": {},
   "outputs": [],
   "source": [
    "df_final.to_csv('C:\\\\Users\\\\' + username + '\\\\Documents\\\\Py\\\\STD\\\\GENERADOS\\\\000003490530' + fecha_actual,\n",
    "               encoding='latin-1',\n",
    "               header=False,\n",
    "               index=False)"
   ]
  },
  {
   "cell_type": "markdown",
   "id": "84ae026c-bf65-4f76-b3cb-031f1bd49404",
   "metadata": {},
   "source": [
    "# Obtener registros segun glosa\n",
    "\n",
    "Reemplazar texto a encontrar en descripción"
   ]
  },
  {
   "cell_type": "code",
   "execution_count": null,
   "id": "52426bdf",
   "metadata": {},
   "outputs": [],
   "source": [
    "df_muestra = df_merge[df_merge['registros'].str.contains('IGT GLOBAL SOLUTIONS', case=False)]\n",
    "count = df_muestra.shape[0]\n",
    "print (df_muestra)\n"
   ]
  },
  {
   "cell_type": "markdown",
   "id": "0bf76fde",
   "metadata": {},
   "source": [
    "Exportar"
   ]
  },
  {
   "cell_type": "code",
   "execution_count": null,
   "id": "e73e5a82",
   "metadata": {},
   "outputs": [],
   "source": [
    "try:\n",
    "    df_merge.to_csv('C:\\\\Users\\\\' + username + '\\\\Documents\\\\Py\\\\STD\\\\ANALISIS\\\\000003490530' + fecha_actual,\n",
    "               encoding='latin-1',\n",
    "               header=False,\n",
    "               index=False)\n",
    "except PermissionError:\n",
    "    print(\"Error al generar archivo\")\n",
    "    print(\"Cierre los archivos que contengan el mismo nombre que los archivos a generar\")"
   ]
  }
 ],
 "metadata": {
  "kernelspec": {
   "display_name": "base",
   "language": "python",
   "name": "python3"
  },
  "language_info": {
   "codemirror_mode": {
    "name": "ipython",
    "version": 3
   },
   "file_extension": ".py",
   "mimetype": "text/x-python",
   "name": "python",
   "nbconvert_exporter": "python",
   "pygments_lexer": "ipython3",
   "version": "3.11.7"
  }
 },
 "nbformat": 4,
 "nbformat_minor": 5
}
