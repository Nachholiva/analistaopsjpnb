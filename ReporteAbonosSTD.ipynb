{
 "cells": [
  {
   "cell_type": "markdown",
   "id": "e215154a-61c5-44f0-842d-4231183fc195",
   "metadata": {},
   "source": [
    "# Reporte abonos cartolas STD"
   ]
  },
  {
   "cell_type": "code",
   "execution_count": null,
   "id": "fa08de82-4a0b-4385-b4f6-6aa6b5ce38c4",
   "metadata": {},
   "outputs": [],
   "source": [
    "import os\n",
    "import datetime\n",
    "import tkinter as tk\n",
    "from tkinter import filedialog\n",
    "import pandas as pd\n",
    "from openpyxl import Workbook\n",
    "\n",
    "username = os.getlogin()            \n",
    "hoy = datetime.datetime.now()\n",
    "date_format = \"%d.%m.%Y\"\n",
    "date_formatexport = \"%d-%m-%Y\"\n",
    "fecha_actual = hoy.strftime(date_formatexport)\n",
    "fecha_cartola = hoy.strftime(date_format)\n",
    "\n",
    "df_mes = pd.DataFrame\n",
    "df_ajustes = pd.DataFrame\n",
    "\n",
    "folder_path = 'C:\\\\Users\\\\' + username + '\\\\Documents\\\\Py\\\\IDENTIFICADOR\\\\AJUSTES'\n",
    "\n",
    "print(\"Cargando archivos...\")\n",
    "\n",
    "files = [f for f in os.listdir(folder_path) if f.endswith('.xls')]\n",
    "df_list = []\n",
    "for file in files:\n",
    "    df = pd.read_excel(os.path.join(folder_path, file),\n",
    "                       sheet_name='Sheet1',\n",
    "                       names=['iddep', 'idag', 'agencia', 'banco', 'cierre', 'fcierre', 'hrcierre', 'blanco', 'maca',\n",
    "                              'bcr', 'mca', 'mcca', 'mppd'],\n",
    "                       header=0,\n",
    "                       thousands=\".\")\n",
    "    df_list.append(df)\n",
    "df_ajustes = pd.concat(df_list)\n",
    "\n",
    "try:\n",
    "    print(\"Seleccione cartola provisoria.\")\n",
    "    fp1 = filedialog.askopenfilename(initialdir='C:\\\\Users\\\\' + username + '\\\\Documents\\\\Py\\\\STD',\n",
    "                                     title=\"Ubicar cartola provisoria\")\n",
    "    fp1 = fp1.replace(\"/\", \"\\\\\")\n",
    "    df1 = pd.read_csv(fp1,\n",
    "                      header=None,\n",
    "                      encoding='latin-1',\n",
    "                      names=['registros'])\n",
    "    print(fp1)\n",
    "except FileNotFoundError:\n",
    "    print(\"Error al cargar cartola provisoria\")\n",
    "    print(\"\")\n",
    "\n",
    "df_ajsort = df_ajustes\n",
    "df_ajsort = df_ajsort[df_ajsort['mcca'] != 0]\n",
    "df_agencias = df_ajsort[['agencia','mcca']]\n",
    "df_agencias.drop_duplicates(subset='mcca',keep='first', inplace=True)\n",
    "df_agencias.sort_values(by='mcca', ascending=True, inplace=True)\n",
    "\n",
    "#df_ident = pd.merge(df_mes, df_agencias, how='left', left_on='abonos', right_on='mcca')\n",
    "#df_ident['agencia'] = df_ident['agencia'].astype(str).replace('\\.0$','',regex=True)\n",
    "#df_ident['mcca'] = df_ident['mcca'].astype(str).replace('\\.0$','',regex=True)\n",
    "\n",
    "print(\"Archivos cargados\")"
   ]
  },
  {
   "cell_type": "markdown",
   "id": "84ae026c-bf65-4f76-b3cb-031f1bd49404",
   "metadata": {},
   "source": [
    "# Obtener abonos segun glosa\n",
    "\n",
    "Reemplazar texto a encontrar en descripción"
   ]
  },
  {
   "cell_type": "code",
   "execution_count": null,
   "id": "52426bdf",
   "metadata": {},
   "outputs": [],
   "source": [
    "df_muestra = df_mes[df_mes['descripcion'].str.contains('Transferencia', case=False)]\n",
    "count = df_muestra.shape[0]\n",
    "print (df_muestra)"
   ]
  },
  {
   "cell_type": "markdown",
   "id": "b53f82a5",
   "metadata": {},
   "source": [
    "# Obtener cierres según monto"
   ]
  },
  {
   "cell_type": "code",
   "execution_count": null,
   "id": "3a7065a1",
   "metadata": {},
   "outputs": [],
   "source": [
    "\n",
    "df_muestra = df_ajustes.copy()\n",
    "num = 13300\n",
    "print(\"Monto cierre: \"+ str(num))\n",
    "df_muestra = df_ajustes[df_ajustes['mcca'] == num].tail()\n",
    "if df_muestra.empty:\n",
    "    print(\"No se encuentran cierres por el monto consultado\")\n",
    "else:\n",
    "    df_muestra.drop_duplicates(subset='cierre',keep='first', inplace=True)\n",
    "    print(df_muestra)"
   ]
  },
  {
   "cell_type": "markdown",
   "id": "ef70d59c",
   "metadata": {},
   "source": [
    "# Ubicar abono según N° Operacion"
   ]
  },
  {
   "cell_type": "code",
   "execution_count": null,
   "id": "d70e30af",
   "metadata": {},
   "outputs": [],
   "source": [
    "df_muestra = df_mes[df_mes['operacion'].astype(str).str.contains('1562', case=False)].shape[0]\n",
    "# sorted_df = count_df.sort_values(by='descripcion', ascending=False)\n",
    "print (df_muestra)"
   ]
  },
  {
   "cell_type": "markdown",
   "id": "d1353eaf",
   "metadata": {},
   "source": [
    "# Montos de cierres por agencia"
   ]
  },
  {
   "cell_type": "code",
   "execution_count": null,
   "id": "d4e23413",
   "metadata": {},
   "outputs": [],
   "source": [
    "num = 16047150\n",
    "# df_muestra = df_agencias[df_agencias['mcca'].astype(str).str.contains(str(num), case=False)]\n",
    "# sorted_df = count_df.sort_values(by='descripcion', ascending=False)\n",
    "# print (df_muestra)\n",
    "\n",
    "df_muestra = df_agencias.copy()\n",
    "num = 18122320\n",
    "print(\"Agencia: \"+ str(num))\n",
    "df_muestra = df_agencias[df_agencias[\"agencia\"] == num]\n",
    "if df_muestra.empty:\n",
    "    print(\"No se encuentran registros de la agencia\")\n",
    "else:\n",
    "    df_muestra.drop_duplicates(subset='mcca',keep='first')\n",
    "    print(df_muestra)"
   ]
  },
  {
   "cell_type": "markdown",
   "id": "2aa2f242",
   "metadata": {},
   "source": [
    "# Cierres por agencia"
   ]
  },
  {
   "cell_type": "code",
   "execution_count": null,
   "id": "50b0a333",
   "metadata": {},
   "outputs": [],
   "source": [
    "\n",
    "df_muestra = df_ajustes.copy()\n",
    "num = 21042560\n",
    "print(\"Agencia: \"+ str(num))\n",
    "df_muestra = df_ajustes[df_ajustes['agencia'] == num]\n",
    "if df_muestra.empty:\n",
    "    print(\"No se encuentran cierres para la agencia\")\n",
    "else:\n",
    "    df_muestra.drop_duplicates(subset='cierre',keep='last',inplace=True)\n",
    "    print(df_muestra)"
   ]
  },
  {
   "cell_type": "code",
   "execution_count": null,
   "id": "afde3fcd",
   "metadata": {},
   "outputs": [],
   "source": [
    "\n",
    "df_muestra = df_ajustes.copy()\n",
    "num = 21042560\n",
    "print(\"Agencia: \"+ str(num))\n",
    "df_muestra = df_ajustes[df_ajustes['agencia'] == num]\n",
    "if df_muestra.empty:\n",
    "    print(\"No se encuentran cierres para la agencia\")\n",
    "else:\n",
    "    df_muestra.drop_duplicates(subset='cierre',keep='last',inplace=True)\n",
    "    print(df_muestra)"
   ]
  },
  {
   "cell_type": "markdown",
   "id": "2f82c789",
   "metadata": {},
   "source": [
    "# Cuadratura de abonos"
   ]
  },
  {
   "cell_type": "code",
   "execution_count": null,
   "id": "1c0651ca",
   "metadata": {},
   "outputs": [],
   "source": [
    "rut = \"77151097-3\"\n",
    "operacion = 7075333\n",
    "num = 23012038\n",
    "df_abonos = df_ident[(df_ident['descripcion'].str.contains(rut)) | (df_ident['agencia'] == num)]\n",
    "# df_abonos = df_ident[(df_ident['operacion'] == operacion) | (df_ident['agencia'] == num)]\n",
    "df_abonos['fecha'] = df_abonos['fecha'].dt.strftime(date_formatexport)\n"
   ]
  },
  {
   "cell_type": "code",
   "execution_count": null,
   "id": "7189a953",
   "metadata": {},
   "outputs": [],
   "source": [
    "df_abonos = df_abonos.drop(columns=['mcca'])\n",
    "df_abonos.to_excel('C:\\\\Users\\\\' + username + '\\\\Documents\\\\Py\\\\JPNB\\\\GENERADOS\\\\Cuadratura AG. ' + str(num) + '.xlsx',\n",
    "            header=True,\n",
    "            index=False)"
   ]
  },
  {
   "cell_type": "code",
   "execution_count": null,
   "id": "5653b9bd",
   "metadata": {},
   "outputs": [],
   "source": [
    "ndigitos = 6\n",
    "num = 111660\n",
    "print(\"Monto consultado: \"+ str(num))\n",
    "df_ag = df_agencias[df_agencias['mcca'].apply(lambda x:\n",
    "         str(x).zfill(len(str(num)))[-ndigitos:] ==\n",
    "         str(num).zfill(len(str(num)))[-ndigitos:])]['agencia']# .tail()\n",
    "if df_ag.empty:\n",
    "   print(\"N/A - No se encuentra agencia alguna vinculada al monto.\")\n",
    "else:\n",
    "   print(df_ag)"
   ]
  },
  {
   "cell_type": "markdown",
   "id": "0bf76fde",
   "metadata": {},
   "source": [
    "Exportar"
   ]
  },
  {
   "cell_type": "code",
   "execution_count": null,
   "id": "e73e5a82",
   "metadata": {},
   "outputs": [],
   "source": [
    "df_mes.to_csv('C:\\\\Users\\\\' + username + '\\\\Documents\\\\Py\\\\JPNB\\\\GENERADOS\\\\Reporte mes ' + fecha_actual + '.csv',\n",
    "            sep=';',\n",
    "            header=False,\n",
    "            index=False,\n",
    "            date_format = date_formatexport)"
   ]
  },
  {
   "cell_type": "code",
   "execution_count": null,
   "id": "5ece5d40",
   "metadata": {},
   "outputs": [],
   "source": [
    "df_ident['fecha'] = df_ident['fecha'].dt.strftime(date_formatexport)\n",
    "df_ident.to_excel('C:\\\\Users\\\\' + username + '\\\\Documents\\\\Py\\\\JPNB\\\\GENERADOS\\\\Reporte mes ' + fecha_actual + '.xlsx',\n",
    "            header=True,\n",
    "            index=False,\n",
    "            date_format = date_formatexport)"
   ]
  },
  {
   "cell_type": "code",
   "execution_count": null,
   "id": "eeb62e52-1aff-4b07-a69c-a0ee5458a5a7",
   "metadata": {},
   "outputs": [],
   "source": [
    "tipos_fecha = df_mes['fecha'].unique()\n",
    "tipos_sucursal = df_mes['sucursal'].unique()\n",
    "tipos_operacion = df_mes['operacion'].unique()\n",
    "tipos_descripcion = df_mes['descripcion'].unique()\n",
    "tipos_agencia = df_mes['agencia'].unique()"
   ]
  },
  {
   "cell_type": "code",
   "execution_count": null,
   "id": "29bdbdab",
   "metadata": {},
   "outputs": [],
   "source": []
  }
 ],
 "metadata": {
  "kernelspec": {
   "display_name": "base",
   "language": "python",
   "name": "python3"
  },
  "language_info": {
   "codemirror_mode": {
    "name": "ipython",
    "version": 3
   },
   "file_extension": ".py",
   "mimetype": "text/x-python",
   "name": "python",
   "nbconvert_exporter": "python",
   "pygments_lexer": "ipython3",
   "version": "3.11.7"
  }
 },
 "nbformat": 4,
 "nbformat_minor": 5
}
