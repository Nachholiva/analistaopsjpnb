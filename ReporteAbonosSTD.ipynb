{
 "cells": [
  {
   "cell_type": "markdown",
   "id": "e215154a-61c5-44f0-842d-4231183fc195",
   "metadata": {},
   "source": [
    "# Reporte abonos cartolas STD"
   ]
  },
  {
   "cell_type": "code",
   "execution_count": 1,
   "id": "fa08de82-4a0b-4385-b4f6-6aa6b5ce38c4",
   "metadata": {},
   "outputs": [
    {
     "name": "stdout",
     "output_type": "stream",
     "text": [
      "Cargando archivos...\n",
      "Seleccione cartola provisoria.\n",
      "C:\\Users\\dxs81864\\Documents\\Py\\STD\\00000349053026-08-202410-19-31 AM\n",
      "Archivos cargados\n"
     ]
    },
    {
     "name": "stderr",
     "output_type": "stream",
     "text": [
      "C:\\Users\\dxs81864\\AppData\\Local\\Temp\\ipykernel_17668\\3404613434.py:51: SettingWithCopyWarning: \n",
      "A value is trying to be set on a copy of a slice from a DataFrame\n",
      "\n",
      "See the caveats in the documentation: https://pandas.pydata.org/pandas-docs/stable/user_guide/indexing.html#returning-a-view-versus-a-copy\n",
      "  df_agencias.drop_duplicates(subset='mcca',keep='first', inplace=True)\n",
      "C:\\Users\\dxs81864\\AppData\\Local\\Temp\\ipykernel_17668\\3404613434.py:52: SettingWithCopyWarning: \n",
      "A value is trying to be set on a copy of a slice from a DataFrame\n",
      "\n",
      "See the caveats in the documentation: https://pandas.pydata.org/pandas-docs/stable/user_guide/indexing.html#returning-a-view-versus-a-copy\n",
      "  df_agencias.sort_values(by='mcca', ascending=True, inplace=True)\n"
     ]
    }
   ],
   "source": [
    "import os\n",
    "import datetime\n",
    "import tkinter as tk\n",
    "from tkinter import filedialog\n",
    "import pandas as pd\n",
    "from openpyxl import Workbook\n",
    "\n",
    "username = os.getlogin()            \n",
    "hoy = datetime.datetime.now()\n",
    "date_format = \"%d.%m.%Y\"\n",
    "date_formatexport = \"%d-%m-%Y\"\n",
    "fecha_actual = hoy.strftime(date_formatexport)\n",
    "fecha_cartola = hoy.strftime(date_format)\n",
    "\n",
    "df_mes = pd.DataFrame\n",
    "df_ajustes = pd.DataFrame\n",
    "\n",
    "folder_path = 'C:\\\\Users\\\\' + username + '\\\\Documents\\\\Py\\\\IDENTIFICADOR\\\\AJUSTES'\n",
    "\n",
    "print(\"Cargando archivos...\")\n",
    "\n",
    "files = [f for f in os.listdir(folder_path) if f.endswith('.xls')]\n",
    "df_list = []\n",
    "for file in files:\n",
    "    df = pd.read_excel(os.path.join(folder_path, file),\n",
    "                       sheet_name='Sheet1',\n",
    "                       names=['iddep', 'idag', 'agencia', 'banco', 'cierre', 'fcierre', 'hrcierre', 'blanco', 'maca',\n",
    "                              'bcr', 'mca', 'mcca', 'mppd'],\n",
    "                       header=0,\n",
    "                       thousands=\".\")\n",
    "    df_list.append(df)\n",
    "df_ajustes = pd.concat(df_list)\n",
    "\n",
    "try:\n",
    "    print(\"Seleccione cartola provisoria.\")\n",
    "    fp1 = filedialog.askopenfilename(initialdir='C:\\\\Users\\\\' + username + '\\\\Documents\\\\Py\\\\STD',\n",
    "                                     title=\"Ubicar cartola provisoria\")\n",
    "    fp1 = fp1.replace(\"/\", \"\\\\\")\n",
    "    df1 = pd.read_csv(fp1,\n",
    "                      header=None,\n",
    "                      encoding='latin-1',\n",
    "                      names=['registros'])\n",
    "    print(fp1)\n",
    "except FileNotFoundError:\n",
    "    print(\"Error al cargar cartola provisoria\")\n",
    "    print(\"\")\n",
    "\n",
    "df_ajsort = df_ajustes\n",
    "df_ajsort = df_ajsort[df_ajsort['mcca'] != 0]\n",
    "df_agencias = df_ajsort[['agencia','mcca']]\n",
    "df_agencias.drop_duplicates(subset='mcca',keep='first', inplace=True)\n",
    "df_agencias.sort_values(by='mcca', ascending=True, inplace=True)\n",
    "\n",
    "#df_ident = pd.merge(df_mes, df_agencias, how='left', left_on='abonos', right_on='mcca')\n",
    "#df_ident['agencia'] = df_ident['agencia'].astype(str).replace('\\.0$','',regex=True)\n",
    "#df_ident['mcca'] = df_ident['mcca'].astype(str).replace('\\.0$','',regex=True)\n",
    "\n",
    "print(\"Archivos cargados\")"
   ]
  },
  {
   "cell_type": "markdown",
   "id": "84ae026c-bf65-4f76-b3cb-031f1bd49404",
   "metadata": {},
   "source": [
    "# Obtener abonos segun glosa\n",
    "\n",
    "Reemplazar texto a encontrar en descripción"
   ]
  },
  {
   "cell_type": "code",
   "execution_count": 3,
   "id": "52426bdf",
   "metadata": {},
   "outputs": [
    {
     "ename": "ValueError",
     "evalue": "Cannot mask with non-boolean array containing NA / NaN values",
     "output_type": "error",
     "traceback": [
      "\u001b[1;31m---------------------------------------------------------------------------\u001b[0m",
      "\u001b[1;31mValueError\u001b[0m                                Traceback (most recent call last)",
      "Cell \u001b[1;32mIn[3], line 1\u001b[0m\n\u001b[1;32m----> 1\u001b[0m df_muestra \u001b[38;5;241m=\u001b[39m df_mes[df_mes[\u001b[38;5;124m'\u001b[39m\u001b[38;5;124mdescripcion\u001b[39m\u001b[38;5;124m'\u001b[39m]\u001b[38;5;241m.\u001b[39mstr\u001b[38;5;241m.\u001b[39mcontains(\u001b[38;5;124m'\u001b[39m\u001b[38;5;124mTransferencia\u001b[39m\u001b[38;5;124m'\u001b[39m, case\u001b[38;5;241m=\u001b[39m\u001b[38;5;28;01mFalse\u001b[39;00m)]\n\u001b[0;32m      2\u001b[0m count \u001b[38;5;241m=\u001b[39m df_muestra\u001b[38;5;241m.\u001b[39mshape[\u001b[38;5;241m0\u001b[39m]\n\u001b[0;32m      3\u001b[0m \u001b[38;5;28mprint\u001b[39m (df_muestra)\n",
      "File \u001b[1;32mc:\\ProgramData\\anaconda3\\Lib\\site-packages\\pandas\\core\\frame.py:3883\u001b[0m, in \u001b[0;36mDataFrame.__getitem__\u001b[1;34m(self, key)\u001b[0m\n\u001b[0;32m   3880\u001b[0m     \u001b[38;5;28;01mreturn\u001b[39;00m \u001b[38;5;28mself\u001b[39m\u001b[38;5;241m.\u001b[39mwhere(key)\n\u001b[0;32m   3882\u001b[0m \u001b[38;5;66;03m# Do we have a (boolean) 1d indexer?\u001b[39;00m\n\u001b[1;32m-> 3883\u001b[0m \u001b[38;5;28;01mif\u001b[39;00m com\u001b[38;5;241m.\u001b[39mis_bool_indexer(key):\n\u001b[0;32m   3884\u001b[0m     \u001b[38;5;28;01mreturn\u001b[39;00m \u001b[38;5;28mself\u001b[39m\u001b[38;5;241m.\u001b[39m_getitem_bool_array(key)\n\u001b[0;32m   3886\u001b[0m \u001b[38;5;66;03m# We are left with two options: a single key, and a collection of keys,\u001b[39;00m\n\u001b[0;32m   3887\u001b[0m \u001b[38;5;66;03m# We interpret tuples as collections only for non-MultiIndex\u001b[39;00m\n",
      "File \u001b[1;32mc:\\ProgramData\\anaconda3\\Lib\\site-packages\\pandas\\core\\common.py:133\u001b[0m, in \u001b[0;36mis_bool_indexer\u001b[1;34m(key)\u001b[0m\n\u001b[0;32m    129\u001b[0m     na_msg \u001b[38;5;241m=\u001b[39m \u001b[38;5;124m\"\u001b[39m\u001b[38;5;124mCannot mask with non-boolean array containing NA / NaN values\u001b[39m\u001b[38;5;124m\"\u001b[39m\n\u001b[0;32m    130\u001b[0m     \u001b[38;5;28;01mif\u001b[39;00m lib\u001b[38;5;241m.\u001b[39mis_bool_array(key_array, skipna\u001b[38;5;241m=\u001b[39m\u001b[38;5;28;01mTrue\u001b[39;00m):\n\u001b[0;32m    131\u001b[0m         \u001b[38;5;66;03m# Don't raise on e.g. [\"A\", \"B\", np.nan], see\u001b[39;00m\n\u001b[0;32m    132\u001b[0m         \u001b[38;5;66;03m#  test_loc_getitem_list_of_labels_categoricalindex_with_na\u001b[39;00m\n\u001b[1;32m--> 133\u001b[0m         \u001b[38;5;28;01mraise\u001b[39;00m \u001b[38;5;167;01mValueError\u001b[39;00m(na_msg)\n\u001b[0;32m    134\u001b[0m     \u001b[38;5;28;01mreturn\u001b[39;00m \u001b[38;5;28;01mFalse\u001b[39;00m\n\u001b[0;32m    135\u001b[0m \u001b[38;5;28;01mreturn\u001b[39;00m \u001b[38;5;28;01mTrue\u001b[39;00m\n",
      "\u001b[1;31mValueError\u001b[0m: Cannot mask with non-boolean array containing NA / NaN values"
     ]
    }
   ],
   "source": [
    "df_muestra = df_mes[df_mes['descripcion'].str.contains('Transferencia', case=False)]\n",
    "count = df_muestra.shape[0]\n",
    "print (df_muestra)"
   ]
  },
  {
   "cell_type": "markdown",
   "id": "b53f82a5",
   "metadata": {},
   "source": [
    "# Obtener cierres según monto"
   ]
  },
  {
   "cell_type": "code",
   "execution_count": null,
   "id": "3a7065a1",
   "metadata": {},
   "outputs": [],
   "source": [
    "\n",
    "df_muestra = df_ajustes.copy()\n",
    "num = 13300\n",
    "print(\"Monto cierre: \"+ str(num))\n",
    "df_muestra = df_ajustes[df_ajustes['mcca'] == num].tail()\n",
    "if df_muestra.empty:\n",
    "    print(\"No se encuentran cierres por el monto consultado\")\n",
    "else:\n",
    "    df_muestra.drop_duplicates(subset='cierre',keep='first', inplace=True)\n",
    "    print(df_muestra)"
   ]
  },
  {
   "cell_type": "markdown",
   "id": "ef70d59c",
   "metadata": {},
   "source": [
    "# Ubicar abono según N° Operacion"
   ]
  },
  {
   "cell_type": "code",
   "execution_count": null,
   "id": "d70e30af",
   "metadata": {},
   "outputs": [],
   "source": [
    "df_muestra = df_mes[df_mes['operacion'].astype(str).str.contains('1562', case=False)].shape[0]\n",
    "# sorted_df = count_df.sort_values(by='descripcion', ascending=False)\n",
    "print (df_muestra)"
   ]
  },
  {
   "cell_type": "markdown",
   "id": "d1353eaf",
   "metadata": {},
   "source": [
    "# Montos de cierres por agencia"
   ]
  },
  {
   "cell_type": "code",
   "execution_count": null,
   "id": "d4e23413",
   "metadata": {},
   "outputs": [],
   "source": [
    "num = 16047150\n",
    "# df_muestra = df_agencias[df_agencias['mcca'].astype(str).str.contains(str(num), case=False)]\n",
    "# sorted_df = count_df.sort_values(by='descripcion', ascending=False)\n",
    "# print (df_muestra)\n",
    "\n",
    "df_muestra = df_agencias.copy()\n",
    "num = 18122320\n",
    "print(\"Agencia: \"+ str(num))\n",
    "df_muestra = df_agencias[df_agencias[\"agencia\"] == num]\n",
    "if df_muestra.empty:\n",
    "    print(\"No se encuentran registros de la agencia\")\n",
    "else:\n",
    "    df_muestra.drop_duplicates(subset='mcca',keep='first')\n",
    "    print(df_muestra)"
   ]
  },
  {
   "cell_type": "markdown",
   "id": "2aa2f242",
   "metadata": {},
   "source": [
    "# Cierres por agencia"
   ]
  },
  {
   "cell_type": "code",
   "execution_count": 4,
   "id": "50b0a333",
   "metadata": {},
   "outputs": [
    {
     "name": "stdout",
     "output_type": "stream",
     "text": [
      "Agencia: 21042560\n",
      "        iddep   idag   agencia         banco         cierre     fcierre  \\\n",
      "7933  6787922  16747  21042560  Banco Estado  6851095084592  19/03/2024   \n",
      "7934  6789525  16747  21042560  Banco Estado  6851095183280  20/03/2024   \n",
      "7935  6791128  16747  21042560  Banco Estado  6851095284104  21/03/2024   \n",
      "7936  6792205  16747  21042560  Banco Estado  6851095385171  22/03/2024   \n",
      "7937  6793918  16747  21042560  Banco Estado  6851095485114  23/03/2024   \n",
      "...       ...    ...       ...           ...            ...         ...   \n",
      "6468  6970722  16747  21042560  Banco Estado  6851111132501  27/08/2024   \n",
      "6469  6971956  16747  21042560  Banco Estado  6851111185028  27/08/2024   \n",
      "6470  6973384  16747  21042560  Banco Estado  6851111285668  28/08/2024   \n",
      "6471  6974729  16747  21042560  Banco Estado  6851111384738  29/08/2024   \n",
      "6472  6975872  16747  21042560  Banco Estado  6851111507764  31/08/2024   \n",
      "\n",
      "      hrcierre  blanco   maca     bcr     mca    mcca   mppd  \n",
      "7933  23:29:52     NaN -88370  310197  398567  306850 -91710  \n",
      "7934  23:08:00     NaN -91710  212555  304265  206850 -97410  \n",
      "7935  23:21:44     NaN -97410  498032  595442  506850 -88590  \n",
      "7936  23:39:31     NaN -88590  720761  809351  806850  -2490  \n",
      "7937  23:38:34     NaN  -2490  128792  131282  106850 -78840  \n",
      "...        ...     ...    ...     ...     ...     ...    ...  \n",
      "6468  09:01:41     NaN  -3725  482454  486179  406850 -79325  \n",
      "6469  23:37:08     NaN -79325  247412  326737  306850 -19875  \n",
      "6470  23:47:48     NaN -19875  508014  527889  506850 -21035  \n",
      "6471  23:32:18     NaN -21035  247292  268327  206850 -61475  \n",
      "6472  02:09:24     NaN -61475  160358  221833  206850 -14985  \n",
      "\n",
      "[107 rows x 13 columns]\n"
     ]
    },
    {
     "name": "stderr",
     "output_type": "stream",
     "text": [
      "C:\\Users\\dxs81864\\AppData\\Local\\Temp\\ipykernel_19244\\3957640348.py:8: SettingWithCopyWarning: \n",
      "A value is trying to be set on a copy of a slice from a DataFrame\n",
      "\n",
      "See the caveats in the documentation: https://pandas.pydata.org/pandas-docs/stable/user_guide/indexing.html#returning-a-view-versus-a-copy\n",
      "  df_muestra.drop_duplicates(subset='cierre',keep='last',inplace=True)\n"
     ]
    }
   ],
   "source": [
    "\n",
    "df_muestra = df_ajustes.copy()\n",
    "num = 21042560\n",
    "print(\"Agencia: \"+ str(num))\n",
    "df_muestra = df_ajustes[df_ajustes['agencia'] == num]\n",
    "if df_muestra.empty:\n",
    "    print(\"No se encuentran cierres para la agencia\")\n",
    "else:\n",
    "    df_muestra.drop_duplicates(subset='cierre',keep='last',inplace=True)\n",
    "    print(df_muestra)"
   ]
  },
  {
   "cell_type": "code",
   "execution_count": null,
   "id": "afde3fcd",
   "metadata": {},
   "outputs": [
    {
     "name": "stdout",
     "output_type": "stream",
     "text": [
      "Agencia: 21042560\n",
      "        iddep   idag   agencia         banco         cierre     fcierre  \\\n",
      "7933  6787922  16747  21042560  Banco Estado  6851095084592  19/03/2024   \n",
      "7934  6789525  16747  21042560  Banco Estado  6851095183280  20/03/2024   \n",
      "7935  6791128  16747  21042560  Banco Estado  6851095284104  21/03/2024   \n",
      "7936  6792205  16747  21042560  Banco Estado  6851095385171  22/03/2024   \n",
      "7937  6793918  16747  21042560  Banco Estado  6851095485114  23/03/2024   \n",
      "...       ...    ...       ...           ...            ...         ...   \n",
      "6468  6970722  16747  21042560  Banco Estado  6851111132501  27/08/2024   \n",
      "6469  6971956  16747  21042560  Banco Estado  6851111185028  27/08/2024   \n",
      "6470  6973384  16747  21042560  Banco Estado  6851111285668  28/08/2024   \n",
      "6471  6974729  16747  21042560  Banco Estado  6851111384738  29/08/2024   \n",
      "6472  6975872  16747  21042560  Banco Estado  6851111507764  31/08/2024   \n",
      "\n",
      "      hrcierre  blanco   maca     bcr     mca    mcca   mppd  \n",
      "7933  23:29:52     NaN -88370  310197  398567  306850 -91710  \n",
      "7934  23:08:00     NaN -91710  212555  304265  206850 -97410  \n",
      "7935  23:21:44     NaN -97410  498032  595442  506850 -88590  \n",
      "7936  23:39:31     NaN -88590  720761  809351  806850  -2490  \n",
      "7937  23:38:34     NaN  -2490  128792  131282  106850 -78840  \n",
      "...        ...     ...    ...     ...     ...     ...    ...  \n",
      "6468  09:01:41     NaN  -3725  482454  486179  406850 -79325  \n",
      "6469  23:37:08     NaN -79325  247412  326737  306850 -19875  \n",
      "6470  23:47:48     NaN -19875  508014  527889  506850 -21035  \n",
      "6471  23:32:18     NaN -21035  247292  268327  206850 -61475  \n",
      "6472  02:09:24     NaN -61475  160358  221833  206850 -14985  \n",
      "\n",
      "[107 rows x 13 columns]\n"
     ]
    },
    {
     "name": "stderr",
     "output_type": "stream",
     "text": [
      "C:\\Users\\dxs81864\\AppData\\Local\\Temp\\ipykernel_19244\\3957640348.py:8: SettingWithCopyWarning: \n",
      "A value is trying to be set on a copy of a slice from a DataFrame\n",
      "\n",
      "See the caveats in the documentation: https://pandas.pydata.org/pandas-docs/stable/user_guide/indexing.html#returning-a-view-versus-a-copy\n",
      "  df_muestra.drop_duplicates(subset='cierre',keep='last',inplace=True)\n"
     ]
    }
   ],
   "source": [
    "\n",
    "df_muestra = df_ajustes.copy()\n",
    "num = 21042560\n",
    "print(\"Agencia: \"+ str(num))\n",
    "df_muestra = df_ajustes[df_ajustes['agencia'] == num]\n",
    "if df_muestra.empty:\n",
    "    print(\"No se encuentran cierres para la agencia\")\n",
    "else:\n",
    "    df_muestra.drop_duplicates(subset='cierre',keep='last',inplace=True)\n",
    "    print(df_muestra)"
   ]
  },
  {
   "cell_type": "markdown",
   "id": "2f82c789",
   "metadata": {},
   "source": [
    "# Cuadratura de abonos"
   ]
  },
  {
   "cell_type": "code",
   "execution_count": null,
   "id": "1c0651ca",
   "metadata": {},
   "outputs": [],
   "source": [
    "rut = \"77151097-3\"\n",
    "operacion = 7075333\n",
    "num = 23012038\n",
    "df_abonos = df_ident[(df_ident['descripcion'].str.contains(rut)) | (df_ident['agencia'] == num)]\n",
    "# df_abonos = df_ident[(df_ident['operacion'] == operacion) | (df_ident['agencia'] == num)]\n",
    "df_abonos['fecha'] = df_abonos['fecha'].dt.strftime(date_formatexport)\n"
   ]
  },
  {
   "cell_type": "code",
   "execution_count": null,
   "id": "7189a953",
   "metadata": {},
   "outputs": [],
   "source": [
    "df_abonos = df_abonos.drop(columns=['mcca'])\n",
    "df_abonos.to_excel('C:\\\\Users\\\\' + username + '\\\\Documents\\\\Py\\\\JPNB\\\\GENERADOS\\\\Cuadratura AG. ' + str(num) + '.xlsx',\n",
    "            header=True,\n",
    "            index=False)"
   ]
  },
  {
   "cell_type": "code",
   "execution_count": null,
   "id": "5653b9bd",
   "metadata": {},
   "outputs": [],
   "source": [
    "ndigitos = 6\n",
    "num = 111660\n",
    "print(\"Monto consultado: \"+ str(num))\n",
    "df_ag = df_agencias[df_agencias['mcca'].apply(lambda x:\n",
    "         str(x).zfill(len(str(num)))[-ndigitos:] ==\n",
    "         str(num).zfill(len(str(num)))[-ndigitos:])]['agencia']# .tail()\n",
    "if df_ag.empty:\n",
    "   print(\"N/A - No se encuentra agencia alguna vinculada al monto.\")\n",
    "else:\n",
    "   print(df_ag)"
   ]
  },
  {
   "cell_type": "markdown",
   "id": "0bf76fde",
   "metadata": {},
   "source": [
    "Exportar"
   ]
  },
  {
   "cell_type": "code",
   "execution_count": null,
   "id": "e73e5a82",
   "metadata": {},
   "outputs": [],
   "source": [
    "df_mes.to_csv('C:\\\\Users\\\\' + username + '\\\\Documents\\\\Py\\\\JPNB\\\\GENERADOS\\\\Reporte mes ' + fecha_actual + '.csv',\n",
    "            sep=';',\n",
    "            header=False,\n",
    "            index=False,\n",
    "            date_format = date_formatexport)"
   ]
  },
  {
   "cell_type": "code",
   "execution_count": null,
   "id": "5ece5d40",
   "metadata": {},
   "outputs": [],
   "source": [
    "df_ident['fecha'] = df_ident['fecha'].dt.strftime(date_formatexport)\n",
    "df_ident.to_excel('C:\\\\Users\\\\' + username + '\\\\Documents\\\\Py\\\\JPNB\\\\GENERADOS\\\\Reporte mes ' + fecha_actual + '.xlsx',\n",
    "            header=True,\n",
    "            index=False,\n",
    "            date_format = date_formatexport)"
   ]
  },
  {
   "cell_type": "code",
   "execution_count": null,
   "id": "eeb62e52-1aff-4b07-a69c-a0ee5458a5a7",
   "metadata": {},
   "outputs": [],
   "source": [
    "tipos_fecha = df_mes['fecha'].unique()\n",
    "tipos_sucursal = df_mes['sucursal'].unique()\n",
    "tipos_operacion = df_mes['operacion'].unique()\n",
    "tipos_descripcion = df_mes['descripcion'].unique()\n",
    "tipos_agencia = df_mes['agencia'].unique()"
   ]
  },
  {
   "cell_type": "code",
   "execution_count": null,
   "id": "29bdbdab",
   "metadata": {},
   "outputs": [],
   "source": []
  }
 ],
 "metadata": {
  "kernelspec": {
   "display_name": "base",
   "language": "python",
   "name": "python3"
  },
  "language_info": {
   "codemirror_mode": {
    "name": "ipython",
    "version": 3
   },
   "file_extension": ".py",
   "mimetype": "text/x-python",
   "name": "python",
   "nbconvert_exporter": "python",
   "pygments_lexer": "ipython3",
   "version": "3.11.7"
  }
 },
 "nbformat": 4,
 "nbformat_minor": 5
}
