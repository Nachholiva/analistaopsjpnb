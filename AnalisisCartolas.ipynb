{
 "cells": [
  {
   "cell_type": "markdown",
   "id": "e215154a-61c5-44f0-842d-4231183fc195",
   "metadata": {},
   "source": [
    "# Reporte abonos cartolas BECH"
   ]
  },
  {
   "cell_type": "code",
   "execution_count": null,
   "id": "fa08de82-4a0b-4385-b4f6-6aa6b5ce38c4",
   "metadata": {},
   "outputs": [],
   "source": [
    "import os\n",
    "import datetime\n",
    "import pandas as pd\n",
    "import matplotlib.pyplot as plt\n",
    "\n",
    "username = os.getlogin()            \n",
    "hoy = datetime.datetime.now()\n",
    "date_format = \"%d.%m.%Y\"\n",
    "date_formatexport = \"%d-%m-%Y\"\n",
    "fecha_actual = hoy.strftime(date_formatexport)\n",
    "fecha_cartola = hoy.strftime(date_format)\n",
    "\n",
    "df_mes = pd.DataFrame\n",
    "df_ajustes = pd.DataFrame\n",
    "alm = pd.DataFrame\n",
    "\n",
    "folder_path = 'C:\\\\Users\\\\' + username + '\\\\Documents\\\\Py\\\\ENLINEA\\\\ANALISIS'\n",
    "\n",
    "print(\"Cargando archivos...\")\n",
    "\n",
    "file1 = \".csv\"\n",
    "file2 = \"csv\"\n",
    "file3 = \".csv\"\n",
    "\n",
    "colsl = ['fecha', 'sucursal', 'operacion', 'descripcion', 'cargos', 'abonos', 'saldo']\n",
    "\n",
    "df1 = pd.read_csv(os.path.join(folder_path, file1), sep = ';', names = colsl,header = 0, date_format = date_formatexport)\n",
    "df2 = pd.read_csv(os.path.join(folder_path, file2), sep = ';', names = colsl,header = 0, date_format = date_formatexport)\n",
    "df3 = pd.read_csv(os.path.join(folder_path, file3), sep = ';', names = colsl,header = 0, date_format = date_formatexport)\n",
    "\n",
    "print(\"Archivos cargados\")"
   ]
  },
  {
   "cell_type": "code",
   "execution_count": null,
   "id": "29bdbdab",
   "metadata": {},
   "outputs": [],
   "source": [
    "diferencias = difflib.Differ\n",
    "diff = diferencias.compare(df1.splitlines(),df2.splitlines())"
   ]
  }
 ],
 "metadata": {
  "kernelspec": {
   "display_name": "Python 3",
   "language": "python",
   "name": "python3"
  },
  "language_info": {
   "codemirror_mode": {
    "name": "ipython",
    "version": 3
   },
   "file_extension": ".py",
   "mimetype": "text/x-python",
   "name": "python",
   "nbconvert_exporter": "python",
   "pygments_lexer": "ipython3",
   "version": "3.12.2"
  }
 },
 "nbformat": 4,
 "nbformat_minor": 5
}
