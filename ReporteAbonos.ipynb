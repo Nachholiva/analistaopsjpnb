{
 "cells": [
  {
   "cell_type": "markdown",
   "id": "e215154a-61c5-44f0-842d-4231183fc195",
   "metadata": {},
   "source": [
    "# Reporte abonos cartolas BECH"
   ]
  },
  {
   "cell_type": "code",
   "execution_count": 43,
   "id": "fa08de82-4a0b-4385-b4f6-6aa6b5ce38c4",
   "metadata": {},
   "outputs": [
    {
     "name": "stdout",
     "output_type": "stream",
     "text": [
      "Cargando archivos...\n",
      "Archivos cargados\n"
     ]
    }
   ],
   "source": [
    "import os\n",
    "import datetime\n",
    "import tkinter as tk\n",
    "from tkinter import filedialog\n",
    "import pandas as pd\n",
    "from openpyxl import Workbook\n",
    "\n",
    "username = os.getlogin()            \n",
    "hoy = datetime.datetime.now()\n",
    "date_format = \"%d.%m.%Y\"\n",
    "date_formatexport = \"%d-%m-%Y\"\n",
    "fecha_actual = hoy.strftime(date_formatexport)\n",
    "fecha_cartola = hoy.strftime(date_format)\n",
    "\n",
    "df_mes = pd.DataFrame\n",
    "df_ajustes = pd.DataFrame\n",
    "alm = pd.DataFrame\n",
    "\n",
    "folder_path = 'C:\\\\Users\\\\' + username + '\\\\Documents\\\\Py\\\\IDENTIFICADOR\\\\AJUSTES'\n",
    "\n",
    "print(\"Cargando archivos...\")\n",
    "\n",
    "files = [f for f in os.listdir(folder_path) if f.endswith('.csv')]\n",
    "df_list = []\n",
    "for file in files:\n",
    "    df = pd.read_csv(os.path.join(folder_path, file),\n",
    "                        sep=';',\n",
    "                        names=['monto','agencia','cierre'],\n",
    "                        header=0)\n",
    "    df_list.append(df)\n",
    "df_cierres = pd.concat(df_list)\n",
    "\n",
    "\n",
    "folder_path = 'C:\\\\Users\\\\' + username + '\\\\Documents\\\\Py\\\\ARCHIVOS PROCESO AM\\\\CARTOLAS HISTORICAS'\n",
    "\n",
    "files = [f for f in os.listdir(folder_path) if f.endswith('.csv')]\n",
    "df_list = []\n",
    "for file in files:\n",
    "    df = pd.read_csv(os.path.join(folder_path, file),\n",
    "                        sep=';',\n",
    "                        header=None,\n",
    "                        thousands='.',\n",
    "                        names=['fecha', 'sucursal', 'operacion', 'descripcion', 'cargos', 'abonos','ind'])\n",
    "    df_list.append(df)\n",
    "df_mes = pd.concat(df_list)\n",
    "df_mes['fecha'] = df_mes['fecha'].str.replace('/', '-')\n",
    "df_mes['fecha'] = pd.to_datetime(df_mes['fecha'],format='mixed',dayfirst=True)\n",
    "df_mes = df_mes.sort_values(by='fecha')\n",
    "\n",
    "df_agencias = df_cierres\n",
    "df_agencias = df_agencias[df_agencias['monto'] != 0]\n",
    "df_agencias = df_agencias.drop(columns=['cierre'])\n",
    "df_agencias.sort_values(by='monto', ascending=True, inplace=True)\n",
    "df_agencias.drop_duplicates(subset='monto',keep='first', inplace=True)\n",
    "\n",
    "\n",
    "df_ident = pd.merge(df_mes, df_agencias, how='left', left_on='abonos', right_on='monto')\n",
    "df_ident['agencia'] = df_ident['agencia'].astype(str).replace('\\.0$','',regex=True)\n",
    "df_ident['monto'] = df_ident['monto'].astype(str).replace('\\.0$','',regex=True)\n",
    "\n",
    "print(\"Archivos cargados\")"
   ]
  },
  {
   "cell_type": "code",
   "execution_count": 44,
   "id": "5ece5d40",
   "metadata": {},
   "outputs": [],
   "source": [
    "df_ident['fecha'] = df_ident['fecha'].dt.strftime(date_formatexport)\n",
    "df_ident = df_ident.drop(columns=['ind','monto'])\n",
    "df_ident.to_excel('C:\\\\Users\\\\' + username + '\\\\Documents\\\\Py\\\\JPNB\\\\GENERADOS\\\\Reporte mes ' + fecha_actual + '.xlsx',\n",
    "            header=True,\n",
    "            index=False)"
   ]
  },
  {
   "cell_type": "markdown",
   "id": "84ae026c-bf65-4f76-b3cb-031f1bd49404",
   "metadata": {},
   "source": [
    "# Obtener abonos segun glosa\n",
    "\n",
    "Reemplazar texto a encontrar en descripción"
   ]
  },
  {
   "cell_type": "code",
   "execution_count": 22,
   "id": "52426bdf",
   "metadata": {},
   "outputs": [
    {
     "name": "stdout",
     "output_type": "stream",
     "text": [
      "         fecha        sucursal  operacion  \\\n",
      "728 2024-10-30  Stgo.principal    7020990   \n",
      "729 2024-10-30  Stgo.principal    7081724   \n",
      "730 2024-10-30  Stgo.principal    7003546   \n",
      "731 2024-10-30  Stgo.principal    7088536   \n",
      "732 2024-10-30  Stgo.principal    7052022   \n",
      "..         ...             ...        ...   \n",
      "58  2024-11-19  Stgo.principal    7074796   \n",
      "57  2024-11-19  Stgo.principal    7017918   \n",
      "55  2024-11-19  Stgo.principal    7093941   \n",
      "54  2024-11-19  Stgo.principal       1077   \n",
      "61  2024-11-19  Stgo.principal    7046504   \n",
      "\n",
      "                                           descripcion  cargos  abonos ind  \n",
      "728  Transferencia bancoestado de rut 9869958-9 gon...       0  224440   H  \n",
      "729  Transferencia bancoestado de rut 8094669-4 lec...       0  225460   H  \n",
      "730  Transferencia bancoestado de rut 14346368-0 go...       0  225540   H  \n",
      "731  Transferencia bancoestado de rut 12370997-7 mo...       0  227390   H  \n",
      "732  Transferencia bancoestado de rut 13043086-4 co...       0  227600   H  \n",
      "..                                                 ...     ...     ...  ..  \n",
      "58   Transferencia bancoestado de rut 15459671-2 gu...       0   26130   H  \n",
      "57   Transferencia bancoestado de rut 10366651-1 si...       0   25860   H  \n",
      "55   Transferencia bancoestado de rut 9869958-9 gon...       0   24440   H  \n",
      "54   Transferencia otro banco de rut 17374730-6 pal...       0   23010   H  \n",
      "61   Transferencia bancoestado de rut 14208875-4 so...       0   28690   H  \n",
      "\n",
      "[10153 rows x 7 columns]\n"
     ]
    }
   ],
   "source": [
    "df_muestra = df_mes[df_mes['descripcion'].str.contains('Transferencia', case=False)]\n",
    "count = df_muestra.shape[0]\n",
    "print (df_muestra)"
   ]
  },
  {
   "cell_type": "markdown",
   "id": "b53f82a5",
   "metadata": {},
   "source": [
    "# Obtener cierres según monto"
   ]
  },
  {
   "cell_type": "code",
   "execution_count": null,
   "id": "3a7065a1",
   "metadata": {},
   "outputs": [],
   "source": [
    "\n",
    "df_muestra = df_ajustes.copy()\n",
    "num = 317100\n",
    "print(\"Monto cierre: \"+ str(num))\n",
    "df_muestra = df_ajustes[df_ajustes['mcca'] == num].tail()\n",
    "if df_muestra.empty:\n",
    "    print(\"No se encuentran cierres por el monto consultado\")\n",
    "else:\n",
    "    df_muestra.drop_duplicates(subset='cierre',keep='first', inplace=True)\n",
    "    print(df_muestra)"
   ]
  },
  {
   "cell_type": "markdown",
   "id": "ef70d59c",
   "metadata": {},
   "source": [
    "# Ubicar abono según N° Operacion"
   ]
  },
  {
   "cell_type": "code",
   "execution_count": null,
   "id": "d70e30af",
   "metadata": {},
   "outputs": [],
   "source": [
    "df_muestra = df_mes[df_mes['operacion'].astype(str).str.contains('1562', case=False)].shape[0]\n",
    "# sorted_df = count_df.sort_values(by='descripcion', ascending=False)\n",
    "print (df_muestra)"
   ]
  },
  {
   "cell_type": "markdown",
   "id": "d1353eaf",
   "metadata": {},
   "source": [
    "# Montos de cierres por agencia"
   ]
  },
  {
   "cell_type": "code",
   "execution_count": null,
   "id": "d4e23413",
   "metadata": {},
   "outputs": [],
   "source": [
    "num = 16047150\n",
    "# df_muestra = df_agencias[df_agencias['mcca'].astype(str).str.contains(str(num), case=False)]\n",
    "# sorted_df = count_df.sort_values(by='descripcion', ascending=False)\n",
    "# print (df_muestra)\n",
    "\n",
    "df_muestra = df_agencias.copy()\n",
    "num = 18122320\n",
    "print(\"Agencia: \"+ str(num))\n",
    "df_muestra = df_agencias[df_agencias[\"agencia\"] == num]\n",
    "if df_muestra.empty:\n",
    "    print(\"No se encuentran registros de la agencia\")\n",
    "else:\n",
    "    df_muestra.drop_duplicates(subset='mcca',keep='first')\n",
    "    print(df_muestra)"
   ]
  },
  {
   "cell_type": "markdown",
   "id": "2aa2f242",
   "metadata": {},
   "source": [
    "# Cierres por agencia"
   ]
  },
  {
   "cell_type": "code",
   "execution_count": 28,
   "id": "50b0a333",
   "metadata": {},
   "outputs": [
    {
     "name": "stdout",
     "output_type": "stream",
     "text": [
      "Agencia: 24178000\n",
      "No se encuentran cierres para la agencia\n"
     ]
    }
   ],
   "source": [
    "\n",
    "df_muestra = df_agencias.copy()\n",
    "num = 24178000\n",
    "print(\"Agencia: \"+ str(num))\n",
    "df_muestra = df_agencias[df_agencias['agencia'] == num].tail()\n",
    "if df_muestra.empty:\n",
    "    print(\"No se encuentran cierres para la agencia\")\n",
    "else:\n",
    "    df_muestra.drop_duplicates(subset='monto',keep='last',inplace=True)\n",
    "    print(df_muestra)"
   ]
  },
  {
   "cell_type": "markdown",
   "id": "2f82c789",
   "metadata": {},
   "source": [
    "# Cuadratura de abonos"
   ]
  },
  {
   "cell_type": "code",
   "execution_count": null,
   "id": "1c0651ca",
   "metadata": {},
   "outputs": [
    {
     "name": "stdout",
     "output_type": "stream",
     "text": [
      "Empty DataFrame\n",
      "Columns: [fecha, sucursal, operacion, descripcion, cargos, abonos, ind]\n",
      "Index: []\n"
     ]
    }
   ],
   "source": [
    "muestraex = df_mes[df_mes['abonos'].astype(int) == 49180]\n",
    "muestrarut = df_mes[df_mes['descripcion'].str.contains('') | df_mes['descripcion'].str.contains('15184281-5')]\n",
    "muestra = pd.concat([muestraex,muestrarut])\n",
    "print(muestra)\n"
   ]
  },
  {
   "cell_type": "code",
   "execution_count": null,
   "id": "7189a953",
   "metadata": {},
   "outputs": [],
   "source": [
    "df_abonos = df_abonos.drop(columns=['mcca'])\n",
    "df_abonos.to_excel('C:\\\\Users\\\\' + username + '\\\\Documents\\\\Py\\\\JPNB\\\\GENERADOS\\\\Cuadratura AG. ' + str(num) + '.xlsx',\n",
    "            header=True,\n",
    "            index=False)"
   ]
  },
  {
   "cell_type": "code",
   "execution_count": 20,
   "id": "e73e5a82",
   "metadata": {},
   "outputs": [],
   "source": [
    "df_mes.to_csv('C:\\\\Users\\\\' + username + '\\\\Documents\\\\Py\\\\JPNB\\\\GENERADOS\\\\Reporte mes ' + fecha_actual + '.csv',\n",
    "            sep=';',\n",
    "            header=False,\n",
    "            index=False,\n",
    "            date_format = date_formatexport)"
   ]
  },
  {
   "cell_type": "code",
   "execution_count": null,
   "id": "5653b9bd",
   "metadata": {},
   "outputs": [],
   "source": [
    "ndigitos = 6\n",
    "num = 111660\n",
    "print(\"Monto consultado: \"+ str(num))\n",
    "df_ag = df_agencias[df_agencias['mcca'].apply(lambda x:\n",
    "         str(x).zfill(len(str(num)))[-ndigitos:] ==\n",
    "         str(num).zfill(len(str(num)))[-ndigitos:])]['agencia']# .tail()\n",
    "if df_ag.empty:\n",
    "   print(\"N/A - No se encuentra agencia alguna vinculada al monto.\")\n",
    "else:\n",
    "   print(df_ag)"
   ]
  },
  {
   "cell_type": "markdown",
   "id": "0bf76fde",
   "metadata": {},
   "source": [
    "Exportar"
   ]
  },
  {
   "cell_type": "code",
   "execution_count": null,
   "id": "eeb62e52-1aff-4b07-a69c-a0ee5458a5a7",
   "metadata": {},
   "outputs": [],
   "source": [
    "tipos_fecha = df_mes['fecha'].unique()\n",
    "tipos_sucursal = df_mes['sucursal'].unique()\n",
    "tipos_operacion = df_mes['operacion'].unique()\n",
    "tipos_descripcion = df_mes['descripcion'].unique()\n",
    "tipos_agencia = df_mes['agencia'].unique()"
   ]
  },
  {
   "cell_type": "code",
   "execution_count": null,
   "id": "29bdbdab",
   "metadata": {},
   "outputs": [],
   "source": []
  }
 ],
 "metadata": {
  "kernelspec": {
   "display_name": "base",
   "language": "python",
   "name": "python3"
  },
  "language_info": {
   "codemirror_mode": {
    "name": "ipython",
    "version": 3
   },
   "file_extension": ".py",
   "mimetype": "text/x-python",
   "name": "python",
   "nbconvert_exporter": "python",
   "pygments_lexer": "ipython3",
   "version": "3.11.7"
  }
 },
 "nbformat": 4,
 "nbformat_minor": 5
}
