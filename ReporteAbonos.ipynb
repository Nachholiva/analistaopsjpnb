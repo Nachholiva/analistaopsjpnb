{
 "cells": [
  {
   "cell_type": "markdown",
   "id": "e215154a-61c5-44f0-842d-4231183fc195",
   "metadata": {},
   "source": [
    "# Reporte abonos cartolas BECH"
   ]
  },
  {
   "cell_type": "code",
   "execution_count": null,
   "id": "fa08de82-4a0b-4385-b4f6-6aa6b5ce38c4",
   "metadata": {},
   "outputs": [],
   "source": [
    "import os\n",
    "import datetime\n",
    "import tkinter as tk\n",
    "from tkinter import filedialog\n",
    "import pandas as pd\n",
    "from openpyxl import Workbook\n",
    "import matplotlib.pyplot as plt\n",
    "import matplotlib.ticker as ticker\n",
    "import matplotlib.dates as mdates\n",
    "import numpy as np\n",
    "\n",
    "username = os.getlogin()            \n",
    "hoy = datetime.datetime.now()\n",
    "date_format = \"%d.%m.%Y\"\n",
    "date_formatexport = \"%d-%m-%Y\"\n",
    "fecha_actual = hoy.strftime(date_formatexport)\n",
    "fecha_cartola = hoy.strftime(date_format)\n",
    "\n",
    "df_mes = pd.DataFrame\n",
    "df_ajustes = pd.DataFrame\n",
    "alm = pd.DataFrame\n",
    "\n",
    "lowmemory = False\n",
    "\n",
    "file_path = 'C:\\\\Users\\\\' + username + '\\\\Documents\\\\Py\\\\IDENTIFICADOR\\\\AJUSTES\\\\MONTOSXAGENCIA.csv'\n",
    "\n",
    "print(\"Cargando archivos...\")\n",
    "\n",
    "df_cierres = pd.read_csv(file_path,\n",
    "                        sep=';',\n",
    "                        header=0,\n",
    "                        dtype=np.int64,\n",
    "                        names=['monto','agencia'])\n",
    "\n",
    "folder_path = 'C:\\\\Users\\\\' + username + '\\\\Documents\\\\Py\\\\ARCHIVOS PROCESO AM\\\\CARTOLAS HISTORICAS'\n",
    "\n",
    "files = [f for f in os.listdir(folder_path) if f.endswith('.csv')]\n",
    "df_list = []\n",
    "for file in files:\n",
    "    df = pd.read_csv(os.path.join(folder_path, file),\n",
    "                        sep=';',\n",
    "                        header=None,\n",
    "                        thousands='.',\n",
    "                        names=['fecha', 'sucursal', 'operacion', 'descripcion', 'cargos', 'abonos','ind'])\n",
    "    df_list.append(df)\n",
    "df_mes = pd.concat(df_list)\n",
    "df_mes['fecha'] = df_mes['fecha'].str.replace('/', '-')\n",
    "df_mes['fecha'] = pd.to_datetime(df_mes['fecha'],format='mixed',dayfirst=True)\n",
    "df_mes = df_mes.sort_values(by='fecha')\n",
    "\n",
    "df_agencias = df_cierres\n",
    "df_agencias = df_agencias[df_agencias['monto'] != 0]\n",
    "df_agencias[['monto','agencia']] = df_agencias[['monto','agencia']].astype(int)\n",
    "df_agencias['agencia'] = df_agencias['agencia'].astype(int)\n",
    "df_agencias['monto'] = df_agencias['monto'].astype(int)\n",
    "df_agencias.drop_duplicates(subset='monto',keep='first', inplace=True)\n",
    "df_agencias.sort_values(by='monto', ascending=True, inplace=True)\n",
    "\n",
    "\n",
    "df_ident = pd.merge(df_mes, df_agencias, how='left', left_on='abonos', right_on='monto')\n",
    "df_ident['agencia'] = df_ident['agencia'].astype(str).replace('\\.0$','',regex=True)\n",
    "df_ident['monto'] = df_ident['monto'].astype(str).replace('\\.0$','',regex=True)\n",
    "df_ident['fecha'] = df_ident['fecha'].dt.strftime(date_formatexport)\n",
    "df_ident['abonos'] = df_ident['abonos'].astype(int)\n",
    "df_ident = df_ident.drop(columns=['ind','monto'])\n",
    "\n",
    "print(\"Archivos cargados\")"
   ]
  },
  {
   "cell_type": "code",
   "execution_count": 2,
   "id": "5ece5d40",
   "metadata": {},
   "outputs": [],
   "source": [
    "\n",
    "df_ident.to_excel('C:\\\\Users\\\\' + username + '\\\\Documents\\\\Py\\\\JPNB\\\\GENERADOS\\\\Reporte mes ' + fecha_actual + '.xlsx',\n",
    "            # header=True,\n",
    "            index=False)"
   ]
  },
  {
   "cell_type": "code",
   "execution_count": 2,
   "id": "4ddbbf1c",
   "metadata": {},
   "outputs": [],
   "source": [
    "df_agencias.to_excel('C:\\\\Users\\\\' + username + '\\\\Documents\\\\Py\\\\JPNB\\\\GENERADOS\\\\AGENCIASXMONTO.xlsx',\n",
    "            header=True,\n",
    "            index=False)"
   ]
  },
  {
   "cell_type": "markdown",
   "id": "84ae026c-bf65-4f76-b3cb-031f1bd49404",
   "metadata": {},
   "source": [
    "# Pie de abonos"
   ]
  },
  {
   "cell_type": "code",
   "execution_count": null,
   "id": "52426bdf",
   "metadata": {},
   "outputs": [],
   "source": [
    "df_pie = pd.DataFrame(columns=['tabono','count'])\n",
    "count_tf = df_mes[df_mes['descripcion'].str.contains('transferencia', case=False)].shape[0]\n",
    "count_def = df_mes[df_mes['descripcion'].str.contains('efectivo', case=False)].shape[0]\n",
    "count_otros = df_mes[~df_mes['descripcion'].str.contains('efectivo|transferencia', case=False,regex=True)].shape[0]\n",
    "df_pie.loc[len(df_pie)]= ['Transferencia',count_tf]\n",
    "df_pie.loc[len(df_pie)]= ['Depósito en efectivo',count_def]\n",
    "#df_pie.loc[len(df_pie)]= ['Otros',count_otros]\n",
    "df_pie.set_index('tabono',inplace=True)\n",
    "df_pie.plot.pie(y='count',ylabel = '',title = 'Abonos',autopct= lambda p:'{:.1f}%'.format(p,p * sum(df_pie['count'])/100), figsize=(10,5))\n"
   ]
  },
  {
   "cell_type": "markdown",
   "id": "e47d6b8c",
   "metadata": {},
   "source": [
    "Conteo tipos de abonos"
   ]
  },
  {
   "cell_type": "code",
   "execution_count": null,
   "id": "7a9c7b51",
   "metadata": {},
   "outputs": [],
   "source": [
    "df_muestra = df_mes\n",
    "\n",
    "df_pietransf = pd.DataFrame(columns=['tabono','count'])\n",
    "\n",
    "df_tf = df_muestra[df_muestra['descripcion'].str.contains('transferencia', case=False)]\n",
    "df_tfob = df_tf[df_tf['descripcion'].str.startswith('Transferencia otro banco de rut')]\n",
    "df_tfbech = df_tf[df_tf['descripcion'].str.startswith('Transferencia bancoestado de')]\n",
    "df_tfcv = df_tf[df_tf['descripcion'].str.startswith('Transferencia caja vecina')]\n",
    "\n",
    "count_tfob = df_tfob.shape[0]\n",
    "count_tfbech = df_tfbech.shape[0]\n",
    "count_tfcv = df_tfcv.shape[0]\n",
    "\n",
    "df_pietransf.loc[len(df_pietransf)]= ['CajaVecina',count_tfcv]\n",
    "df_pietransf.loc[len(df_pietransf)]= ['Banco Estado',count_tfbech]\n",
    "df_pietransf.loc[len(df_pietransf)]= ['Otro banco',count_tfob]\n",
    "df_pietransf.set_index('tabono',inplace=True)\n",
    "df_pietransf.plot.pie(y='count',ylabel='', title='Transferencias',autopct= lambda p:'{:.1f}%'.format(p,p * sum(df_pie['count'])/100), figsize=(10,5))\n",
    "\n",
    "df_piedef = pd.DataFrame(columns=['tabono','count'])\n",
    "\n",
    "df_def = df_muestra[df_muestra['descripcion'].str.contains('efectivo', case=False)]\n",
    "df_defef = df_def[df_def['descripcion'].str.startswith('Depositoenefectivo')]\n",
    "df_defsv = df_def[df_def['descripcion'].str.startswith('Deposito en efectivo serviestado')]\n",
    "df_defcv = df_def[df_def['descripcion'].str.startswith('Deposito en efectivo caja vecina')]\n",
    "df_defcaj = df_def[df_def['descripcion'].str.startswith('Deposito efectivo en cajero automatico')]\n",
    "\n",
    "count_defef = df_defef.shape[0]\n",
    "count_defsv = df_defsv.shape[0]\n",
    "count_defcv = df_defcv.shape[0]\n",
    "count_defcaj = df_defcaj.shape[0]\n",
    "\n",
    "df_piedef.loc[len(df_piedef)]= ['Sucursal',count_defef]\n",
    "df_piedef.loc[len(df_piedef)]= ['CajaVecina',count_defcv]\n",
    "df_piedef.loc[len(df_piedef)]= ['ServiEstado',count_defsv]\n",
    "#df_piedef.loc[len(df_piedef)]= ['Otros',count_defcaj]\n",
    "df_piedef.set_index('tabono',inplace=True)\n",
    "df_piedef.plot.pie(y='count',ylabel='',title='Depósitos en efectivo',startangle=180,autopct= lambda p:'{:.1f}%'.format(p,p * sum(df_pie['count'])/100), figsize=(10,5))"
   ]
  },
  {
   "cell_type": "code",
   "execution_count": null,
   "id": "c1836250",
   "metadata": {},
   "outputs": [],
   "source": [
    "df_conteo = df_mes['fecha'].value_counts().reset_index(name='conteo')\n",
    "df_conteo = df_conteo[df_conteo['fecha'] < '2024-12-24']\n",
    "df_conteo = df_conteo[df_conteo['fecha'] > '2024-06-01']\n",
    "df_conteo.set_index('fecha',inplace=True)\n",
    "df_conteo.plot(title='Registros diarios',xlabel='mes',ylabel='Conteo abonos',figsize=(20,6))\n",
    "#plt.gca().yaxis.set_major_formatter(ticker.FuncFormatter(lambda x, p:f'{x}'))\n",
    "myFmt = mdates.DateFormatter('%d/%b/%Y')\n",
    "plt.gca().xaxis.set_major_formatter(myFmt)\n",
    "plt.xticks(np.arange('2024-11', '2025-01', dtype='datetime64[W]'),rotation=10, ha='right')\n",
    "plt.grid(True)\n",
    "plt.yticks(np.arange(1000,2500,step=100))\n",
    "plt.gca().minorticks_on()\n",
    "plt.show()\n",
    "print('Promedio: ' + df_conteo['conteo'].mean().astype(str))"
   ]
  },
  {
   "cell_type": "markdown",
   "id": "ef70d59c",
   "metadata": {},
   "source": [
    "# Ubicar abono según N° Operacion"
   ]
  },
  {
   "cell_type": "code",
   "execution_count": null,
   "id": "d70e30af",
   "metadata": {},
   "outputs": [],
   "source": [
    "df_muestra = df_mes[df_mes['operacion'].astype(str).str.contains('1562', case=False)].shape[0]\n",
    "# sorted_df = count_df.sort_values(by='descripcion', ascending=False)\n",
    "print (df_muestra)"
   ]
  },
  {
   "cell_type": "markdown",
   "id": "2f82c789",
   "metadata": {},
   "source": [
    "# Cuadratura de abonos"
   ]
  },
  {
   "cell_type": "code",
   "execution_count": null,
   "id": "1c0651ca",
   "metadata": {},
   "outputs": [
    {
     "ename": "",
     "evalue": "",
     "output_type": "error",
     "traceback": [
      "\u001b[1;31mThe Kernel crashed while executing code in the current cell or a previous cell. \n",
      "\u001b[1;31mPlease review the code in the cell(s) to identify a possible cause of the failure. \n",
      "\u001b[1;31mClick <a href='https://aka.ms/vscodeJupyterKernelCrash'>here</a> for more info. \n",
      "\u001b[1;31mView Jupyter <a href='command:jupyter.viewOutput'>log</a> for further details."
     ]
    }
   ],
   "source": [
    "#muestraex = df_mes[df_mes['abonos'].astype(int) == 49180]\n",
    "#muestrarut = df_mes[df_mes['descripcion'].str.contains() | df_mes['descripcion'].str.contains('')]\n",
    "muestrarut = df_mes[df_mes['descripcion'].str.contains('1')]\n",
    "muestra = pd.concat([muestraex,muestrarut])\n",
    "print(muestra)\n"
   ]
  },
  {
   "cell_type": "code",
   "execution_count": null,
   "id": "eeb62e52-1aff-4b07-a69c-a0ee5458a5a7",
   "metadata": {},
   "outputs": [],
   "source": [
    "\n",
    "df_adosc = df_ident[df_ident['abonos'] == 200000]\n",
    "\n",
    "conteo_adosc = df_adosc.groupby(['fecha']).count()\n",
    "\n",
    "df_adosc_plot = conteo_adosc.copy().resample('M').sum()\n",
    "print(df_adosc_plot)"
   ]
  },
  {
   "cell_type": "code",
   "execution_count": null,
   "id": "29bdbdab",
   "metadata": {},
   "outputs": [],
   "source": [
    "freq_adosc.plot(kind='bar',x='frequency', figsize=(10,4))\n",
    "plt.title('Casos Pre-conciliados')\n",
    "plt.xlabel('Periodo')\n",
    "plt.xticks(rotation=30, ha='right')\n",
    "plt.ylabel('Casos', fontsize = 14)\n",
    "plt.yticks(np.arange(0,850,step=50))\n",
    "plt.grid(axis='y')\n",
    "arrcasos = df_adosc.to_numpy()\n",
    "#for i, v in enumerate(y):\n",
    "#    plt.text(xlocs[i] - 0.25, v + 0.01, str(v))\n",
    "#myFmt = mdates.DateFormatter('%b/%Y')\n",
    "#plt.gca().xaxis.set_major_formatter(myFmt)\n",
    "#plt.xticks(np.arange('2023-12', '2024-12', dtype='datetime64[M]'),rotation=10, ha='right')\n",
    "plt.show()"
   ]
  }
 ],
 "metadata": {
  "kernelspec": {
   "display_name": "base",
   "language": "python",
   "name": "python3"
  },
  "language_info": {
   "codemirror_mode": {
    "name": "ipython",
    "version": 3
   },
   "file_extension": ".py",
   "mimetype": "text/x-python",
   "name": "python",
   "nbconvert_exporter": "python",
   "pygments_lexer": "ipython3",
   "version": "3.11.7"
  }
 },
 "nbformat": 4,
 "nbformat_minor": 5
}
