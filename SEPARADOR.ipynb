{
 "cells": [
  {
   "cell_type": "markdown",
   "id": "e215154a-61c5-44f0-842d-4231183fc195",
   "metadata": {},
   "source": [
    "# Separador archivo de conciliación BECH3"
   ]
  },
  {
   "cell_type": "code",
   "execution_count": null,
   "id": "fa08de82-4a0b-4385-b4f6-6aa6b5ce38c4",
   "metadata": {},
   "outputs": [],
   "source": [
    "import pandas as pd\n",
    "import datetime\n",
    "import os\n",
    "from tkinter import filedialog\n",
    "\n",
    "username = os.getlogin()\n",
    "\n",
    "hoy = datetime.datetime.now()\n",
    "date_format = \"%d.%m.%Y\"\n",
    "date_formatexport = \"%d-%m-%Y\"\n",
    "date_formatcartola = \"%d/%m/%Y\"\n",
    "fecha_actual = hoy.strftime(date_format)\n",
    "fecha_cartola = hoy.strftime(date_formatexport)\n",
    "\n",
    "rows_per_file = 998\n",
    "\n",
    "folder_path = 'C:\\\\Users\\\\' + username + '\\\\Documents\\\\Py\\\\IDENTIFICADOR\\\\AJUSTES'\n",
    "\n",
    "print(\"Cargando archivos...\")\n",
    "\n",
    "files = [f for f in os.listdir(folder_path) if f.endswith('.csv')]\n",
    "df_list = []\n",
    "for file in files:\n",
    "    df = pd.read_csv(os.path.join(folder_path, file),\n",
    "                        sep=';',\n",
    "                        names=['monto','agencia','cierre'],\n",
    "                        header=0)\n",
    "    df_list.append(df)\n",
    "df_cierres = pd.concat(df_list)\n",
    "\n",
    "fp1 = filedialog.askopenfilename(initialdir='C:\\\\Users\\\\' + username + '\\\\Documents\\\\Py\\\\SEPARADOR',\n",
    "                                 title=\"Ubicar archivo de conciliacion bancaria\")\n",
    "df1 = pd.read_table(fp1,\n",
    "                  index_col=None,\n",
    "                  dtype='object',\n",
    "                  sep=';',\n",
    "                  header=None,\n",
    "                  names=['saldoa', 'diames', 'operacion', 'ind', 'sucursal', 'tipoabono', 'nsucursal', 'descripcion',\n",
    "                         'monto', 'saldob', 'ind2', 'fecha', 'cuenta', 'blank1', 'blank2', 'blank3', 'blank4',\n",
    "                         'blank5'],\n",
    "                  )\n",
    "\n",
    "df_agencias = df_cierres\n",
    "df_agencias = df_agencias[df_agencias['monto'] != 0]\n",
    "df_agencias = df_agencias.drop(columns=['cierre'])\n",
    "df_agencias.sort_values(by='monto', ascending=True, inplace=True)\n",
    "df_agencias.drop_duplicates(subset='monto',keep='first', inplace=True)\n",
    "\n",
    "df = df1.copy()\n",
    "df = df[~df['tipoabono'].str.contains('C')]\n",
    "df = df.drop(columns=['saldoa', 'diames', 'operacion', 'ind', 'sucursal', 'nsucursal', 'tipoabono',\n",
    "                      'saldob', 'ind2', 'fecha', 'cuenta', 'blank1', 'blank2', 'blank3', 'blank4', 'blank5'])\n",
    "df['monto'] = df['monto'].astype(int)\n",
    "\n",
    "df_ident = pd.merge(df, df_agencias, how='left', left_on='monto', right_on='monto')\n",
    "df_ident['agencia'] = df_ident['agencia'].astype(str).replace('\\.0$','',regex=True)\n",
    "df_ident['monto'] = df_ident['monto'].astype(str).replace('\\.0$','',regex=True)\n",
    "\n",
    "num_files = -(-len(df) // rows_per_file)\n"
   ]
  },
  {
   "cell_type": "markdown",
   "id": "84ae026c-bf65-4f76-b3cb-031f1bd49404",
   "metadata": {},
   "source": [
    "# Separar y exportar"
   ]
  },
  {
   "cell_type": "code",
   "execution_count": null,
   "id": "74349bd5-2425-4a1c-ac8c-3b3e0c185354",
   "metadata": {},
   "outputs": [],
   "source": [
    "\n",
    "for i in range(num_files):\n",
    "    start = i * rows_per_file\n",
    "    end = (i + 1) * rows_per_file\n",
    "\n",
    "    chunk = df.iloc[start:end]\n",
    "\n",
    "    sum_monto = chunk['monto'].astype(int).sum()\n",
    "\n",
    "    chunk.loc[len(df)] = [None, str(int(sum_monto))]\n",
    "\n",
    "    output_file = f'CargasBECH3_{i + 1}.csv'\n",
    "\n",
    "    exportdir = 'C:\\\\Users\\\\' + username + '\\\\Documents\\\\Py\\\\SEPARADOR\\\\GENERADOS\\\\' + output_file + ''\n",
    "\n",
    "    chunk.to_csv(exportdir, sep=';', index=False, header=False, float_format='%.0f')\n",
    "\n",
    "    print(f'Se exportaron {len(chunk)} columnas al archivo {output_file}')\n"
   ]
  },
  {
   "cell_type": "markdown",
   "id": "324b4e20",
   "metadata": {},
   "source": [
    "# Identificador cartola\n",
    "\n",
    "Asigna un numero de agencia a cada monto en cartola según el monto de cierre con ajuste del archivo de ajustes histórico."
   ]
  },
  {
   "cell_type": "code",
   "execution_count": null,
   "id": "8a88629a",
   "metadata": {},
   "outputs": [],
   "source": [
    "id_abonos = df1['abonos'].astype(str).str[-5:]\n",
    "df2['mcca_id'] = df2['mcca'].astype(str).str.replace(r'\\D+','',regex=True)\n",
    "id_mcca = df2['mcca_id']\n",
    "\n",
    "agencia_map = dict(zip(id_mcca,df2['agencia']))\n",
    "\n",
    "df1['agencia'] = df1['abonos'].astype(str).apply(lambda x: agencia_map.get(x[-5:],0))\n",
    "\n",
    "print(df1)"
   ]
  },
  {
   "cell_type": "markdown",
   "id": "0bf76fde",
   "metadata": {},
   "source": [
    "Exportar"
   ]
  },
  {
   "cell_type": "code",
   "execution_count": 17,
   "id": "e73e5a82",
   "metadata": {},
   "outputs": [],
   "source": [
    "df1.to_csv('C:\\\\Users\\\\' + username + '\\\\Documents\\\\Py\\\\DEVOLTX\\\\Reporte CARGAS' + fecha_actual + '.csv',\n",
    "            sep=';',\n",
    "            header=False,\n",
    "            index=False)"
   ]
  },
  {
   "cell_type": "code",
   "execution_count": 5,
   "id": "eeb62e52-1aff-4b07-a69c-a0ee5458a5a7",
   "metadata": {},
   "outputs": [],
   "source": [
    "tipos_fecha = df1['fecha'].unique()\n",
    "tipos_sucursal = df1['sucursal'].unique()\n",
    "tipos_operacion = df1['operacion'].unique()\n",
    "tipos_descripcion = df1['descripcion'].unique()"
   ]
  }
 ],
 "metadata": {
  "kernelspec": {
   "display_name": "base",
   "language": "python",
   "name": "python3"
  },
  "language_info": {
   "codemirror_mode": {
    "name": "ipython",
    "version": 3
   },
   "file_extension": ".py",
   "mimetype": "text/x-python",
   "name": "python",
   "nbconvert_exporter": "python",
   "pygments_lexer": "ipython3",
   "version": "3.11.7"
  }
 },
 "nbformat": 4,
 "nbformat_minor": 5
}
