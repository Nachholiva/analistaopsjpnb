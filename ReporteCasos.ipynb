{
 "cells": [
  {
   "cell_type": "markdown",
   "id": "e215154a-61c5-44f0-842d-4231183fc195",
   "metadata": {},
   "source": [
    "Analisis casos manuales"
   ]
  },
  {
   "cell_type": "code",
   "execution_count": null,
   "id": "fa08de82-4a0b-4385-b4f6-6aa6b5ce38c4",
   "metadata": {},
   "outputs": [],
   "source": [
    "import os\n",
    "import pandas as pd\n",
    "import datetime\n",
    "import numpy as np\n",
    "import matplotlib.pyplot as plt\n",
    "from matplotlib.dates import MonthLocator, YearLocator\n",
    "\n",
    "username = os.getlogin()\n",
    "hoy = datetime.datetime.now()\n",
    "date_formatcarga = \"%d.%m.%Y\"\n",
    "date_formatexport = \"%d-%m-%Y\"\n",
    "date_formatcasos = \"%d-%m-%Y %H:%M\"\n",
    "date_formatpiem = \"%Y-%m\"\n",
    "\n",
    "fecha_actual = hoy.strftime(date_formatcarga)\n",
    "df1 = pd.DataFrame\n",
    "file_path = f'C:\\\\Users\\\\{username}\\\\Documents\\\\Py\\\\CASOS\\\\tablacasos.xlsx'\n",
    "df1 = pd.read_excel(file_path,\n",
    "                    sheet_name='Historial casos Manuales',header=0,\n",
    "                    names=['caso','agencia','tdep','contacto','asunto','cierre','montocierre','depositado','banco','user','fapertura','fmod','alias','usermod'])\n",
    "df1['tdep'] = df1['tdep'].astype(str)\n",
    "df1.fillna('null', inplace=True)\n",
    "\n",
    "df1['fapertura'] = pd.to_datetime(df1['fapertura'],format = date_formatcasos)\n",
    "df1['fmod'] = pd.to_datetime(df1['fmod'],format = date_formatexport)\n",
    "\n",
    "print(\"Tabla cargada.\")"
   ]
  },
  {
   "cell_type": "markdown",
   "id": "84ae026c-bf65-4f76-b3cb-031f1bd49404",
   "metadata": {},
   "source": [
    "Obtener la cantidad de casos cerrados"
   ]
  },
  {
   "cell_type": "code",
   "execution_count": null,
   "id": "74349bd5-2425-4a1c-ac8c-3b3e0c185354",
   "metadata": {},
   "outputs": [],
   "source": [
    "count_df1 = df1[df1['usermod'].str.contains('ioliv')].groupby('usermod').size().reset_index(name='count')\n",
    "count_df2 = df1[df1['usermod'].str.contains('procom')].groupby('usermod').size().reset_index(name='count')\n",
    "count_df3 = df1[df1['usermod'].str.contains('sysadmin')].groupby('usermod').size().reset_index(name='count')\n",
    "count_df = pd.concat([count_df1,count_df2,count_df3])\n",
    "sorted_df2 = count_df2\n",
    "print(count_df)\n",
    "print(f\"Total casos operador: {(sum(count_df['count']))}\")                                                            "
   ]
  },
  {
   "cell_type": "markdown",
   "id": "8682b671",
   "metadata": {},
   "source": [
    "Obtener cantidad de casos creados por usuario"
   ]
  },
  {
   "cell_type": "code",
   "execution_count": null,
   "id": "9f7a6dbf",
   "metadata": {},
   "outputs": [],
   "source": [
    "count_cpu= df1.groupby('user').size().reset_index(name='count').sort_values(by='count', ascending=False)\n",
    "count_cpu = count_cpu.set_index('user')\n",
    "count_cpu = count_cpu[count_cpu['count'] > 50]\n",
    "count_cpu.plot.bar(title='Casos por usuario',xlabel='Mes',ylabel='Casos',figsize=(17,4))\n",
    "#plt.gca().yaxis.set_major_formatter(ticker.FuncFormatter(lambda x, p:f'{int(x/1000000):,}'))\n",
    "plt.xticks(rotation=30, ha='right')\n",
    "plt.grid(axis='y')\n",
    "plt.yticks(np.arange(0,9000,step=500))\n",
    "plt.show()"
   ]
  },
  {
   "cell_type": "code",
   "execution_count": null,
   "id": "d48552ae",
   "metadata": {},
   "outputs": [],
   "source": [
    "dfc = df1.copy()\n",
    "count_df = dfc.loc[dfc['fapertura'] > '2024-01-01']\n",
    "count_df = count_df[count_df['tdep'].str.contains('Saldo de Ajuste')].groupby('tdep').size().reset_index(name='count')\n",
    "sorted_df = count_df.sort_values(by='count', ascending=False)\n",
    "print (sorted_df)\n",
    "#sorted_df.to_csv('C:\\\\Users\\\\dxs81864\\\\Documents\\\\Py\\\\CASOS\\\\GENERADOS\\\\Pdc ' + fecha_actual + '.csv',\n",
    "#               sep=';',\n",
    "#               header=False,\n",
    "#               index=False)\n",
    "print(f\"Total casos: {(sum(count_df['count']))}\")  \n",
    "                                  "
   ]
  },
  {
   "cell_type": "markdown",
   "id": "174a9e06-532b-46b8-bc12-bc48d72aca3f",
   "metadata": {},
   "source": [
    "Obtener la ocurrencia de tipo de caso\n",
    "\n",
    "Reemplazar tipo de caso y periodicidad"
   ]
  },
  {
   "cell_type": "code",
   "execution_count": null,
   "id": "ae0165c3",
   "metadata": {},
   "outputs": [],
   "source": [
    "fechadesde = '2024-01-01'\n",
    "periodicidad = 'M'\n",
    "percasos = df1.copy()\n",
    "percasos = percasos.loc[percasos['fapertura'] > fechadesde]\n",
    "percasos = percasos.groupby(df1['fapertura'].dt.to_period(periodicidad))['tdep'].count()\n",
    "countcasos = percasos.resample(periodicidad).sum()\n",
    "#print(count)\n",
    "print(countcasos.mean())"
   ]
  },
  {
   "cell_type": "code",
   "execution_count": null,
   "id": "ef9c8912",
   "metadata": {},
   "outputs": [],
   "source": [
    "\n",
    "#countcasos.index = countcasos.index.map(str)\n",
    "#countcasos.index.astype(str, copy = False)\n",
    "#print(countcasos.index)\n",
    "#countcasos.index = pd.to_datetime(countcasos.index.astype(str),format='format')\n",
    "countcasos.plot.bar(title='Casos',xlabel='Mes',ylabel='Casos',figsize=(10,4))\n",
    "#plt.gca().yaxis.set_major_formatter(ticker.FuncFormatter(lambda x, p:f'{int(x/1000000):,}'))\n",
    "\n",
    "years = np.arange(2022,2025)\n",
    "plt.xticks(rotation=30, ha='right')\n",
    "yloc = YearLocator()\n",
    "mloc = MonthLocator()\n",
    "#plt.gca().xaxis.set_major_locator(yloc)\n",
    "#plt.gca().xaxis.set_minor_locator(mloc)\n",
    "plt.grid(axis='y',which='major')\n",
    "plt.yticks(np.arange(0,2000,step=100))\n",
    "plt.show()\n",
    "print(countcasos.mean())"
   ]
  },
  {
   "cell_type": "code",
   "execution_count": null,
   "id": "314762f3",
   "metadata": {},
   "outputs": [],
   "source": [
    "dfbar = df1.copy()\n",
    "fechadesde = '2024-01-01'\n",
    "dfbar = dfbar.loc[dfbar['fapertura'] > fechadesde]\n",
    "dfbar['month'] = dfbar['fapertura'].dt.month\n",
    "dfbar['year'] = dfbar['fapertura'].dt.year\n",
    "count_dfbar = dfbar.groupby(['tdep','year','month']).size().reset_index(name='count')\n",
    "count_dfbar['fecha'] = count_dfbar['year'].astype(str).str.zfill(2) + '-' + count_dfbar['month'].astype(str).str.zfill(2)\n",
    "count_dfbar = count_dfbar.drop(['year','month'],axis=1)\n",
    "count_dfbar = count_dfbar.pivot_table(index='fecha',columns='tdep',values='count',aggfunc='sum')\n",
    "count_dfbar = count_dfbar.drop(columns=['Parcializado'])\n",
    "\n",
    "\n",
    "count_dfbar.plot.bar(title='Casos según tipo',xlabel='Mes',ylabel='Casos', stacked=True, figsize=(14,7))\n",
    "\n",
    "#plt.gca().yaxis.set_major_formatter(ticker.FuncFormatter(lambda x, p:f'{int(x/1000000):,}'))\n",
    "plt.xticks(rotation=30, ha='right')\n",
    "plt.grid(axis='y')\n",
    "plt.yticks(np.arange(0,1400,step=100))\n",
    "plt.show()\n"
   ]
  },
  {
   "cell_type": "code",
   "execution_count": null,
   "id": "7c33d6e1-91a2-438d-a92e-0a161beff733",
   "metadata": {},
   "outputs": [],
   "source": [
    "tipocaso = 'Parcializado'\n",
    "fechadesde = '2024-01-01'\n",
    "periodicidad = 'M'\n",
    "periodicity = df1[df1['tdep'].str.contains(tipocaso)]\n",
    "periodicity = periodicity.loc[periodicity['fapertura'] > fechadesde]\n",
    "periodicity = periodicity.groupby(df1['fapertura'].dt.to_period(periodicidad))['tdep'].count()\n",
    "countparc = periodicity.resample(periodicidad).sum()\n",
    "#print(count)\n",
    "print(countparc.mean())\n",
    "\n"
   ]
  },
  {
   "cell_type": "code",
   "execution_count": null,
   "id": "e9854f65",
   "metadata": {},
   "outputs": [],
   "source": [
    "countparc.plot.bar(title='Casos Parcializados',xlabel='Mes',ylabel='Casos',figsize=(14,4))\n",
    "#plt.gca().yaxis.set_major_formatter(ticker.FuncFormatter(lambda x, p:f'{int(x/1000000):,}'))\n",
    "plt.xticks(rotation=30, ha='right')\n",
    "plt.grid(axis='y')\n",
    "#plt.yticks(np.arange(-40000000,170000000,step=10000000))\n",
    "plt.show()"
   ]
  },
  {
   "cell_type": "code",
   "execution_count": null,
   "id": "009fe18a",
   "metadata": {},
   "outputs": [],
   "source": [
    "tipocaso = 'Pago Saldo Ajuste'\n",
    "fechadesde = '2024-01-01'\n",
    "periodicidad = 'M'\n",
    "periodicitysa = df1[df1['tdep'].str.contains(tipocaso)]\n",
    "periodicitysa = periodicitysa.loc[periodicitysa['fapertura'] > fechadesde]\n",
    "periodicitysa = periodicitysa.groupby(df1['fapertura'].dt.to_period(periodicidad))['tdep'].count()\n",
    "countsa = periodicitysa.resample(periodicidad).sum()\n",
    "#print(count)\n",
    "print(countsa.mean())"
   ]
  },
  {
   "cell_type": "code",
   "execution_count": null,
   "id": "1beb93b7",
   "metadata": {},
   "outputs": [],
   "source": [
    "countsa.plot.bar(title='Casos Saldo de Ajuste',xlabel='Mes',ylabel='Casos',figsize=(15,4))\n",
    "#plt.gca().yaxis.set_major_formatter(ticker.FuncFormatter(lambda x, p:f'{int(x/1000000):,}'))\n",
    "plt.xticks(rotation=30, ha='right')\n",
    "plt.grid(axis='y')\n",
    "plt.yticks(np.arange(0,90,step=10))\n",
    "plt.show()"
   ]
  },
  {
   "cell_type": "markdown",
   "id": "8e721a11",
   "metadata": {},
   "source": [
    "Casos por alias"
   ]
  },
  {
   "cell_type": "code",
   "execution_count": 32,
   "id": "70c32b0d",
   "metadata": {},
   "outputs": [],
   "source": [
    "dfalias = df1[df1['user'].str.contains('autocase')]"
   ]
  },
  {
   "cell_type": "markdown",
   "id": "d5066951",
   "metadata": {},
   "source": [
    "Obtener ocurrencia por agencia de casos parcializados por agencia agrupado según mes"
   ]
  },
  {
   "cell_type": "code",
   "execution_count": null,
   "id": "14554ca4",
   "metadata": {},
   "outputs": [],
   "source": [
    "df_parc = df1.loc[df1['fapertura'] > '2024-01-01']\n",
    "df_parc = df_parc[df_parc['agencia'] != \"809000\"]\n",
    "df_parc = df_parc[df_parc['agencia'] != \"801000\"]\n",
    "df_conteoparc = df_parc.groupby([pd.Grouper(key='agencia')]).size().reset_index(name='periodicity')\n",
    "df_conteoparc = df_conteoparc.sort_values(by=['periodicity','agencia'], ascending=[False,False])\n",
    "#df_conteoparc.drop_duplicates(subset='agencia',keep='first', inplace=True)\n",
    "print(df_conteoparc)\n"
   ]
  },
  {
   "cell_type": "markdown",
   "id": "9013e2a6",
   "metadata": {},
   "source": [
    "Agencias Parcializados"
   ]
  },
  {
   "cell_type": "code",
   "execution_count": null,
   "id": "6a64bc02",
   "metadata": {},
   "outputs": [],
   "source": [
    "df_conteoparcmuestra = df_conteoparc[df_conteoparc['periodicity'] > 100].set_index('agencia')\n",
    "\n",
    "df_conteoparcmuestra.plot.bar(title='Casos por agencia',xlabel='Agencias',ylabel='Casos',figsize=(15,2))\n",
    "#plt.gca().yaxis.set_major_formatter(ticker.FuncFormatter(lambda x, p:f'{int(x/1000000):,}'))\n",
    "plt.xticks(rotation=20, ha='right')\n",
    "plt.grid(axis='y')\n",
    "plt.yticks(np.arange(0,410,step=50))\n",
    "plt.show()"
   ]
  },
  {
   "cell_type": "code",
   "execution_count": 62,
   "id": "d063b94e",
   "metadata": {},
   "outputs": [],
   "source": [
    "df_conteoparctotal = df_conteoparc.groupby('agencia')['periodicity'].sum().reset_index()\n",
    "df_conteoparctotal = df_conteoparctotal.sort_values(by='periodicity', ascending=False)"
   ]
  },
  {
   "cell_type": "markdown",
   "id": "a1635552",
   "metadata": {},
   "source": [
    "Tabla de casos pre-conciliados"
   ]
  },
  {
   "cell_type": "code",
   "execution_count": 76,
   "id": "15e6944a",
   "metadata": {},
   "outputs": [
    {
     "name": "stderr",
     "output_type": "stream",
     "text": [
      "C:\\Users\\dxs81864\\AppData\\Local\\Temp\\ipykernel_11060\\3860703131.py:12: FutureWarning: Resampling with a PeriodIndex is deprecated. Cast index to DatetimeIndex before resampling instead.\n",
      "  dfpreconc_plot = conteo_preconc.copy().resample('M').sum()\n"
     ]
    }
   ],
   "source": [
    "dfpc = df1.copy()\n",
    "\n",
    "dfpc = dfpc[~dfpc['asunto'].str.contains('B2B')]\n",
    "dfpc = dfpc[~dfpc['tdep'].str.contains('S.com')]\n",
    "dfpc = dfpc.loc[dfpc['fapertura'] > '2024-01-01']\n",
    "df_period = dfpc[dfpc['usermod'].str.contains('') | dfpc['usermod'].str.contains('')]\n",
    "\n",
    "conteo_preconc = df_period.groupby(dfpc['fapertura'].dt.to_period('M'))['caso'].count()\n",
    "#conteo_parc = df[dfc['tdep'].str.contains('Parcializado')].groupby(dfc['fapertura'].dt.to_period('M'))['caso'].count()\n",
    "#conteo_pc = dfc[dfc['tdep'].str.contains('Problema cartola')].groupby(dfc['fapertura'].dt.to_period('M'))['caso'].count()\n",
    "\n",
    "dfpreconc_plot = conteo_preconc.copy().resample('M').sum()\n",
    "#dfparc_plot = conteo_parc.copy().resample('M').sum()\n",
    "#dfpc_plot = conteo_pc.copy().resample('M').sum()"
   ]
  },
  {
   "cell_type": "code",
   "execution_count": null,
   "id": "0c5c1d24",
   "metadata": {},
   "outputs": [],
   "source": [
    "dfpreconc_plot.plot(kind='bar',x='count', figsize=(10,4))\n",
    "plt.title('Casos Pre-conciliados')\n",
    "plt.xlabel('Periodo')\n",
    "plt.xticks(rotation=30, ha='right')\n",
    "plt.ylabel('Casos', fontsize = 14)\n",
    "plt.yticks(np.arange(0,750,step=50))\n",
    "plt.grid(axis='y')\n",
    "#for i, v in enumerate(y):\n",
    "#    plt.text(xlocs[i] - 0.25, v + 0.01, str(v))\n",
    "#myFmt = mdates.DateFormatter('%b/%Y')\n",
    "#plt.gca().xaxis.set_major_formatter(myFmt)\n",
    "#plt.xticks(np.arange('2023-12', '2024-12', dtype='datetime64[M]'),rotation=10, ha='right')\n",
    "plt.show()"
   ]
  },
  {
   "cell_type": "code",
   "execution_count": null,
   "id": "73efb1b5",
   "metadata": {},
   "outputs": [],
   "source": [
    "dfpc_plot.plot(kind='bar',x='count', figsize=(15,4))\n",
    "plt.title('Casos Problema Cartola')\n",
    "plt.xlabel('Periodo')\n",
    "plt.xticks(rotation=30, ha='right')\n",
    "plt.ylabel('Casos', fontsize = 14)\n",
    "plt.yticks(np.arange(0,550,step=50))\n",
    "plt.grid(axis='y')\n",
    "arrcasos = dfpc_plot.to_numpy()"
   ]
  }
 ],
 "metadata": {
  "kernelspec": {
   "display_name": "Python 3",
   "language": "python",
   "name": "python3"
  },
  "language_info": {
   "codemirror_mode": {
    "name": "ipython",
    "version": 3
   },
   "file_extension": ".py",
   "mimetype": "text/x-python",
   "name": "python",
   "nbconvert_exporter": "python",
   "pygments_lexer": "ipython3",
   "version": "3.12.2"
  }
 },
 "nbformat": 4,
 "nbformat_minor": 5
}
