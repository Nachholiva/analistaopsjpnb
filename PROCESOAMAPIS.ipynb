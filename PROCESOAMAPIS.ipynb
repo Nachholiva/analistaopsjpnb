{
 "cells": [
  {
   "cell_type": "code",
   "execution_count": 5,
   "id": "73625148",
   "metadata": {},
   "outputs": [
    {
     "name": "stdout",
     "output_type": "stream",
     "text": [
      "Cargando archivos...\n",
      "OK\n"
     ]
    }
   ],
   "source": [
    "import sys\n",
    "import pandas as pd\n",
    "import datetime as dt\n",
    "import os\n",
    "from flask import Flask,jsonify,request\n",
    "\n",
    "username = os.getlogin()\n",
    "\n",
    "hoy = dt.datetime.now()\n",
    "date_format = \"%d.%m.%Y\"\n",
    "date_formatexport = \"%d-%m-%Y\"\n",
    "date_formatcartola = \"%d/%m/%Y\"\n",
    "fecha_actual = hoy.strftime(date_format)\n",
    "fecha_cartola = hoy.strftime(date_formatexport)\n",
    "\n",
    "df1 = pd.DataFrame()\n",
    "df2 = pd.DataFrame()\n",
    "\n",
    "# Directorios\n",
    "folder_path = f'C:\\\\Users\\\\{username}\\\\Documents\\\\Py\\\\ARCHIVOS PROCESO AM\\\\'\n",
    "folder_filtros = folder_path + 'FILTROS\\\\'\n",
    "dir_hist = folder_path + 'CARTOLAS HISTORICAS\\\\HISTORICA ' + fecha_actual + '.csv'\n",
    "dir_linea = folder_path + 'CARTOLAS LINEA\\\\LINEA ' + fecha_actual + '.csv'\n",
    "dir_merge = folder_path + 'GENERADOS\\\\MERGE\\\\MERGE ' + fecha_actual + '.csv'\n",
    "dir_b2b = folder_path + 'GENERADOS\\\\B2B\\\\B2B ' + fecha_actual + '.csv'\n",
    "dir_fintoc = folder_path + 'GENERADOS\\\\FINTOC\\\\FINTOC ' + fecha_actual + '.csv'\n",
    "dir_tes = folder_path + 'GENERADOS\\\\TES\\\\TES ' + fecha_actual + '.csv'\n",
    "dir_dfcna = folder_path + 'GENERADOS\\\\NA\\\\NA ' + fecha_actual + '.csv'\n",
    "dir_dfcnar = folder_path + 'GENERADOS\\\\REVERSAR\\\\REVERSA ' + fecha_actual + '.csv'\n",
    "\n",
    "cols = ['fecha', 'sucursal', 'operacion', 'descripcion','cargos','abonos']\n",
    "\n",
    "# Cargar archivos\n",
    "print(\"Cargando archivos...\")\n",
    "\n",
    "df_b2b = pd.read_csv(dir_b2b, sep=';', header=None, names=cols, thousands='.',date_format=date_formatexport)\n",
    "df_fintoc = pd.read_csv(dir_fintoc, sep=';', header=None, names=cols, thousands='.',date_format=date_formatexport)\n",
    "df_tes = pd.read_csv(dir_tes, sep=';', header=None, names=cols, thousands='.',date_format=date_formatexport)\n",
    "df_dfcna = pd.read_csv(dir_dfcna, sep=';', header=None, names=cols, thousands='.',date_format=date_formatexport)\n",
    "\n",
    "# Filtros por glosa exacta\n",
    "flineadf = pd.read_table(os.path.join(folder_filtros, 'filtroslinea.txt'), header=None, names=['registros'])\n",
    "fhistdf = pd.read_table(os.path.join(folder_filtros, 'filtroshistorica.txt'), header=None, names=['registros'])\n",
    "fb2bdf = pd.read_table(os.path.join(folder_filtros, 'filtrosb2b.txt'), header=None, names=['registros'])\n",
    "ffintocdf = pd.read_table(os.path.join(folder_filtros, 'filtrosfintoc.txt'), header=None, names=['registros'])\n",
    "flinea = flineadf['registros'].astype(str).tolist()\n",
    "fhist = fhistdf['registros'].astype(str).tolist()\n",
    "fb2b = fb2bdf['registros'].astype(str).tolist()\n",
    "ffintoc = ffintocdf['registros'].astype(str).tolist()\n",
    "\n",
    "print(\"OK\")"
   ]
  },
  {
   "cell_type": "code",
   "execution_count": 7,
   "id": "e9ec7bb4",
   "metadata": {},
   "outputs": [
    {
     "name": "stdout",
     "output_type": "stream",
     "text": [
      " * Serving Flask app '__main__'\n",
      " * Debug mode: off\n"
     ]
    },
    {
     "name": "stderr",
     "output_type": "stream",
     "text": [
      "WARNING: This is a development server. Do not use it in a production deployment. Use a production WSGI server instead.\n",
      " * Running on http://127.0.0.1:5000\n",
      "Press CTRL+C to quit\n",
      "127.0.0.1 - - [24/Jan/2025 12:58:30] \"GET /tes/df_tes HTTP/1.1\" 200 -\n",
      "127.0.0.1 - - [24/Jan/2025 12:58:33] \"GET /mp/fintoc HTTP/1.1\" 200 -\n",
      "127.0.0.1 - - [24/Jan/2025 12:58:40] \"GET /cartolabech/abonosb2b HTTP/1.1\" 200 -\n"
     ]
    }
   ],
   "source": [
    "app = Flask(__name__)\n",
    "\n",
    "@app.route('/cartolabech/abonosb2b',methods=['GET'])    \n",
    "def get_abonosb2b():\n",
    "    return jsonify(df_b2b.to_dict(orient='records'))\n",
    "\n",
    "@app.route('/mp/fintoc',methods=['GET'])    \n",
    "def get_fintoc():\n",
    "    return jsonify(df_fintoc.to_dict(orient='records'))\n",
    "\n",
    "@app.route('/tes/df_tes',methods=['GET'])    \n",
    "def get_tes():\n",
    "    return jsonify(df_tes.to_dict(orient='records'))\n",
    "\n",
    "if __name__ == '__main__':\n",
    "    app.run(debug=False)"
   ]
  },
  {
   "cell_type": "code",
   "execution_count": 11,
   "id": "0fac2ec2",
   "metadata": {},
   "outputs": [],
   "source": [
    "dfcnar = dfc.copy()\n",
    "dfcna = dfc.copy()\n",
    "for value in dfcna['abonos']:\n",
    "    counth = dfcna[dfcna['ind'].str.contains(\"H\") & (dfcna['abonos'] == value)].shape[0]\n",
    "    countl = dfcna[dfcna['ind'].str.contains(\"L\") & (dfcna['abonos'] == value)].shape[0]\n",
    "    if countl > counth:\n",
    "        dfcna.drop(dfcna[dfcna['abonos'] == value].index[:counth + countl], inplace=True)\n",
    "        df2.drop(df2[df2['abonos'] == value].index[:countl], inplace=True)\n",
    "    else:\n",
    "        dfcna.drop(dfcna[dfcna['abonos'] == value].index[:countl * 2], inplace=True)\n",
    "        dfcnar.drop(dfcnar[dfcnar['abonos'] == value].index[:counth + countl], inplace=True)\n",
    "dfcna[['sucursal_x','operacion_x','descripcion_x','fecha_x']] = dfcna[['sucursal_y','operacion_y','descripcion_y','fecha_y']]\n",
    "dfcna.rename(columns={'sucursal_x': 'sucursal'}, inplace=True)\n",
    "dfcna.rename(columns={'operacion_x': 'operacion'}, inplace=True)\n",
    "dfcna.rename(columns={'descripcion_x': 'descripcion'}, inplace=True)\n",
    "dfcna.rename(columns={'fecha_x': 'fecha'}, inplace=True)\n",
    "dfcna = dfcna.drop(columns=['sucursal_y', 'operacion_y', 'descripcion_y', 'fecha_y'])\n",
    "dfcna = dfcna[~dfcna['abonos'].isin(b2b['abonos'])]\n",
    "dfcna = dfcna[~dfcna['abonos'].isin(fintoc['abonos'])]\n",
    "dfcna = dfcna[~dfcna['abonos'].isin(cargos['cargos'])]\n",
    "dfcna = dfcna[~dfcna['abonos'].isin(rechazo['abonos'])]\n",
    "dfcna = dfcna[dfcna['abonos'] != 0]\n",
    "cartola = pd.concat([df2, dfcna]).drop(columns=['ind'])\n",
    "cartola.to_csv('C:\\\\Users\\\\' + username + '\\\\Documents\\\\Py\\\\ARCHIVOS PROCESO AM\\\\GENERADOS\\\\'+ file,sep=';',header=False,index=False)"
   ]
  },
  {
   "cell_type": "code",
   "execution_count": null,
   "id": "8b8aba48",
   "metadata": {},
   "outputs": [],
   "source": []
  }
 ],
 "metadata": {
  "kernelspec": {
   "display_name": "Python 3",
   "language": "python",
   "name": "python3"
  },
  "language_info": {
   "codemirror_mode": {
    "name": "ipython",
    "version": 3
   },
   "file_extension": ".py",
   "mimetype": "text/x-python",
   "name": "python",
   "nbconvert_exporter": "python",
   "pygments_lexer": "ipython3",
   "version": "3.12.2"
  }
 },
 "nbformat": 4,
 "nbformat_minor": 5
}
