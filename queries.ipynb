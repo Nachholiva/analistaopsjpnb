{
 "cells": [
  {
   "cell_type": "code",
   "execution_count": null,
   "metadata": {},
   "outputs": [
    {
     "name": "stdout",
     "output_type": "stream",
     "text": [
      "(13526, 601000, 'V', 60000000, 'B2B')\n",
      "(9888, 5900000, 'C', 0, 'B2B')\n",
      "(13756, 402000, 'C', 9000000, 'B2B')\n",
      "(11251, 301000, 'C', 1917951, 'B2B')\n",
      "(9874, 202000, 'V', 800000000, 'B2B')\n",
      "(10056, 303000, 'V', 0, 'B2B')\n",
      "(14185, 602000, 'C', 0, 'B2B')\n",
      "(9555, 1000, 'V', 66279000, 'B2B')\n",
      "(14952, 19012370, 'V', 33139500, 'B2B')\n",
      "(14621, 404000, 'V', 0, 'B2B')\n",
      "(16133, 5000, 'V', 200000, 'B2B')\n",
      "(16640, 809000, 'V', 400000000, 'B2B')\n",
      "(14603, 18082490, 'V', 135000000, 'B2B')\n",
      "(18045, 801000, 'V', 39570000, 'B2B')\n",
      "(17208, 21112040, 'C', 33139500, 'B2B')\n",
      "(17280, 901000, 'V', 185000000, 'B2B')\n",
      "(21078, 801200, 'V', 10000000, 'B2B')\n"
     ]
    }
   ],
   "source": [
    "import oracledb\n",
    "import getpass\n",
    "import pandas as pd\n",
    "\n",
    "userpwd = input()\n",
    "oracledb.init_oracle_client(lib_dir=r\"C:\\instantclient_23_6\")\n",
    "conn = oracledb.connect(user=\"ioliva\", password = userpwd, dsn=\"192.156.141.120:1521/comsp.igt.com\")\n",
    "\n",
    "cursor = conn.cursor()\n",
    "\n",
    "#cursor.execute(\"select * from GTECH.BANCOS\")\n",
    "dfq = pd.DataFrame(columns=['AGENCIA_ID','NUMERO_AGENCIA','ESTADO_VIGENCIA','LIMITE_CREDITO','CANAL'])\n",
    "for row in cursor.execute(\n",
    "    \"SELECT AGENCIA_ID, NUMERO_AGENCIA, ESTADO_VIGENCIA, LIMITE_CREDITO, CANAL from GTECH.agencias WHERE CANAL = 'B2B'\"):\n",
    "    dfq.loc[len(dfq)] = row\n",
    "    print(row)\n",
    "\n",
    "dfq_agencias = pd.DataFrame(columns=['DEPOSITO_ID','AGENCIA_ID','NUM_CIERRE_DEPOSITO',TO_CHAR('FECHA_CIERRE_DEPOSIT'),'ESTADO'])\n",
    "for row in cursor.execute(\n",
    "    \"SELECT DEPOSITO_ID, AGENCIA_ID, NUM_CIERRE_DEPOSITO, FECHA_CIERRE_DEPOSIT, ESTADO from GTECH.DEPOSITOS WHERE AGENCIA_ID = ''\"):\n",
    "    dfq.loc[len(dfq)] = row\n",
    "    print(row)\n"
   ]
  },
  {
   "cell_type": "code",
   "execution_count": null,
   "metadata": {},
   "outputs": [],
   "source": []
  }
 ],
 "metadata": {
  "kernelspec": {
   "display_name": "Python 3",
   "language": "python",
   "name": "python3"
  },
  "language_info": {
   "codemirror_mode": {
    "name": "ipython",
    "version": 3
   },
   "file_extension": ".py",
   "mimetype": "text/x-python",
   "name": "python",
   "nbconvert_exporter": "python",
   "pygments_lexer": "ipython3",
   "version": "3.12.2"
  }
 },
 "nbformat": 4,
 "nbformat_minor": 2
}
