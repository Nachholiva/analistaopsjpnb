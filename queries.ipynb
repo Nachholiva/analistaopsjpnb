{
 "cells": [
  {
   "cell_type": "code",
   "execution_count": 5,
   "metadata": {},
   "outputs": [],
   "source": [
    "import oracledb\n",
    "import pandas as pd\n",
    "from flask import Flask,jsonify,request\n",
    "import os\n",
    "import datetime as dt\n",
    "from datetime import timedelta\n",
    "\n",
    "username=os.getlogin()\n",
    "userdb=\"ioliva\"\n",
    "dsndb=\"192.156.141.120:1521/comsp.igt.com\"\n",
    "date_formatexport = \"%d-%m-%Y\"\n",
    "date_format = \"%d.%m.%Y\"\n",
    "hoy = dt.datetime.now()\n",
    "rango = hoy - timedelta(days=30)\n",
    "fecha_actual = hoy.strftime(date_formatexport)\n",
    "fecha_mesant = rango.strftime(date_formatexport)\n",
    "folder_path = f'C:\\\\Users\\\\{username}\\\\Documents\\\\Py\\\\ARCHIVOS PROCESO AM\\\\'\n",
    "dir_b2b = folder_path + f'GENERADOS\\\\B2B\\\\B2B CIERRES {fecha_actual}.csv'\n",
    "userpwd = input()\n",
    "\n",
    "oracledb.init_oracle_client(lib_dir=r\"C:\\instantclient_23_6\")\n",
    "def conectar(userdb,userpwd,dsndb):\n",
    "    conn = oracledb.connect(user=userdb, password=userpwd, dsn=dsndb)\n",
    "    return conn\n",
    "\n",
    "conn = conectar(userdb,userpwd,dsndb)\n",
    "cursor = conn.cursor()\n"
   ]
  },
  {
   "cell_type": "code",
   "execution_count": 27,
   "metadata": {},
   "outputs": [],
   "source": [
    "conn.is_healthy()\n",
    "conn.close()"
   ]
  },
  {
   "cell_type": "code",
   "execution_count": null,
   "metadata": {},
   "outputs": [],
   "source": [
    "df_agv = pd.DataFrame(columns=['AGENCIA_ID','NUMERO_AGENCIA','ESTADO_VIGENCIA','LIMITE_CREDITO','CANAL'])\n",
    "canal = \"B2B\"\n",
    "vigencia = \"V\"\n",
    "sql = \"SELECT AGENCIA_ID, NUMERO_AGENCIA, ESTADO_VIGENCIA, LIMITE_CREDITO, CANAL from GTECH.AGENCIAS WHERE CANAL = :vcan AND ESTADO_VIGENCIA = :vvig\"\n",
    "for row in cursor.execute(sql,vcan=canal,vvig=vigencia):\n",
    "    df_agv.loc[len(df_agv)] = row\n",
    "    print(row)"
   ]
  },
  {
   "cell_type": "code",
   "execution_count": null,
   "metadata": {},
   "outputs": [],
   "source": []
  },
  {
   "cell_type": "code",
   "execution_count": null,
   "metadata": {},
   "outputs": [],
   "source": [
    "app = Flask(__name__)\n",
    "canal = \"B2B\"\n",
    "vigencia = \"V\"\n",
    "@app.route('/b2b/vigentes',methods=['GET'])    \n",
    "def obtener_datos():\n",
    "    df_agv = pd.DataFrame(columns=['AGENCIA_ID','NUMERO_AGENCIA','ESTADO_VIGENCIA','LIMITE_CREDITO','CANAL'])\n",
    "    sql = \"SELECT AGENCIA_ID, NUMERO_AGENCIA, ESTADO_VIGENCIA, LIMITE_CREDITO, CANAL from GTECH.AGENCIAS WHERE CANAL = :vcan AND ESTADO_VIGENCIA = :vvig\"\n",
    "    for row in cursor.execute(sql,vcan=canal,vvig=vigencia):\n",
    "        df_agv.loc[len(df_agv)] = row\n",
    "    print(row)\n",
    "    return jsonify(df_agv.to_dict(orient='records'))\n",
    "if __name__ == '__main__':\n",
    "    app.run(debug=False)"
   ]
  },
  {
   "cell_type": "code",
   "execution_count": null,
   "metadata": {},
   "outputs": [],
   "source": [
    "agencia_id = 18045\n",
    "dfq_agencias = pd.DataFrame(columns=['DEPOSITO_ID','AGENCIA_ID','NUM_CIERRE_DEPOSITO','FECHA_CIERRE_DEPOSIT','ESTADO'])\n",
    "sql = \"SELECT DEPOSITO_ID, AGENCIA_ID, NUM_CIERRE_DEPOSITO, FECHA_CIERRE_DEPOSIT, ESTADO FROM GTECH.DEPOSITOS WHERE AGENCIA_ID = :vaid\"\n",
    "for row in cursor.execute(\n",
    "    sql,vaid=str(agencia_id)\n",
    "    ):\n",
    "    dfq_agencias.loc[len(dfq_agencias)] = row\n",
    "    print(row)"
   ]
  },
  {
   "cell_type": "code",
   "execution_count": null,
   "metadata": {},
   "outputs": [],
   "source": [
    "montodep = input()\n",
    "dfq_buscaconc = pd.DataFrame(columns=['AGENCIA','CIERRE','MONTO','FECHA_CIERRE','HORA_CONC', 'EST', 'EJECUTIVO'])\n",
    "sql = \"\"\"SELECT DISTINCT a.NUMERO_AGENCIA, d.NUM_CIERRE_DEPOSITO, d.TOTAL_DEPOSITO, d.FECHA_CIERRE_DEPOSIT, dd.FECHA_CONC_EF,d.ESTADO_PROCESO, e.NOMBRE \n",
    "        FROM AGENCIAS a \n",
    "        INNER JOIN .AGENTES ag ON a.AGENTE_ID = ag.AGENTE_ID \n",
    "        INNER JOIN .DEPOSITOS d ON a.AGENCIA_ID = d.AGENCIA_ID \n",
    "        INNER JOIN .DETALLE_DEPOSITOS dd ON d.DEPOSITO_ID = dd.DEPOSITO_ID \n",
    "        INNER JOIN .EJECUTIVOS e ON e.EJECUTIVO_ID = a.EJECUTIVO_ID \n",
    "        WHERE d.TOTAL_DEPOSITO = :vmontodep\"\"\"\n",
    "for row in cursor.execute(sql,vmontodep=montodep):\n",
    "    dfq_buscaconc.loc[len(dfq_buscaconc)] = row\n",
    "print(dfq_buscaconc)\n"
   ]
  },
  {
   "cell_type": "code",
   "execution_count": null,
   "metadata": {},
   "outputs": [],
   "source": []
  },
  {
   "cell_type": "code",
   "execution_count": 47,
   "metadata": {},
   "outputs": [],
   "source": [
    "b2bbechids = [16640,18045,14603]\n",
    "#def format_list(ids):\n",
    "#    return '' + ','.join(f\"{n}\" for n in ids)+''\n",
    "#b2bbech=format_list(b2bbechids)\n",
    "#eproc= 'DP'\n",
    "dfq_b2bbech = pd.DataFrame(columns=['AGENCIA','CIERRE','MONTO','FECHA_CIERRE', 'EST'])\n",
    "sql = \"\"\"SELECT a.NUMERO_AGENCIA, d.NUM_CIERRE_DEPOSITO, d.TOTAL_DEPOSITO, d.FECHA_CIERRE_DEPOSIT, d.ESTADO_PROCESO \n",
    "        FROM GTECH.DEPOSITOS d \n",
    "        INNER JOIN GTECH.AGENCIAS a ON d.AGENCIA_ID = a.AGENCIA_ID\n",
    "        WHERE a.AGENCIA_ID IN (:a0,:a1,:a2)\n",
    "        AND d.ESTADO_PROCESO = 'DP'\"\"\"\n",
    "for row in cursor.execute(sql,a0=b2bbechids[0],a1=b2bbechids[1],a2=b2bbechids[2]):\n",
    "    dfq_b2bbech.loc[len(dfq_b2bbech)] = row\n",
    "dfq_b2bbech.sort_values(by=['FECHA_CIERRE','AGENCIA'], ascending=[True, True], inplace=True)"
   ]
  },
  {
   "cell_type": "code",
   "execution_count": null,
   "metadata": {},
   "outputs": [],
   "source": [
    "dfq_b2bbech.to_csv(dir_b2b, sep=';', index=False, header=False, float_format='%.0f', date_format=date_formatexport)"
   ]
  },
  {
   "cell_type": "code",
   "execution_count": null,
   "metadata": {},
   "outputs": [],
   "source": [
    "nagencia = input()\n",
    "\n",
    "dfq_hconc = pd.DataFrame(columns=['AGENCIA','CIERRE','MONTO','FECHA_CIERRE','FECHA_CONC_EF', 'EST'])\n",
    "sql = \"\"\"SELECT DISTINCT a.NUMERO_AGENCIA,d.NUM_CIERRE_DEPOSITO,d.TOTAL_DEPOSITO, d.FECHA_CIERRE_DEPOSIT,dd.FECHA_CONC_EF ,d.ESTADO_PROCESO FROM GTECH.DEPOSITOS d\n",
    "        INNER JOIN GTECH.AGENCIAS a ON d.AGENCIA_ID = a.AGENCIA_ID\n",
    "        INNER JOIN GTECH.EJECUTIVOS e ON a.EJECUTIVO_ID = e.EJECUTIVO_ID\n",
    "        INNER JOIN GTECH.DETALLE_DEPOSITOS dd ON dd.DEPOSITO_ID = d.DEPOSITO_ID \n",
    "        WHERE a.NUMERO_AGENCIA = :vnagencia\n",
    "        AND d.FECHA_CIERRE_DEPOSIT >= TO_DATE (:vfecha,'dd-mm-yyyy')\n",
    "        \"\"\"\n",
    "\n",
    "if conn.is_healthy():\n",
    "    for row in cursor.execute(sql,vnagencia=nagencia,vfecha=fecha_mesant):\n",
    "        dfq_hconc.loc[len(dfq_hconc)] = row\n",
    "else:\n",
    "   print(f\"Generar instancia conección\")\n",
    "\n",
    "dfq_hconc.sort_values(by=['FECHA_CIERRE'], ascending=True, inplace=True)"
   ]
  },
  {
   "cell_type": "code",
   "execution_count": 26,
   "metadata": {},
   "outputs": [],
   "source": [
    "dfq_mc = pd.DataFrame(columns=['MONTO','AGENCIA'])\n",
    "\n",
    "sql = \"\"\"SELECT DISTINCT d.TOTAL_DEPOSITO,a.NUMERO_AGENCIA FROM GTECH.DEPOSITOS d\n",
    "        INNER JOIN GTECH.AGENCIAS a ON d.AGENCIA_ID = a.AGENCIA_ID\n",
    "        WHERE d.FECHA_CIERRE_DEPOSIT >= TO_DATE ('01-01-2024','dd-mm-yyyy') AND a.CANAL = 'RETAIL' AND d.TOTAL_DEPOSITO != 0\"\"\"\n",
    "for row in cursor.execute(sql):\n",
    "    dfq_mc.loc[len(dfq_mc)] = row\n",
    "dfq_mc.sort_values(by=['MONTO','AGENCIA'], ascending=[True, True], inplace=True)\n",
    "\n",
    "#dfq_mc.to_csv(dir_b2b, sep=';', index=False, header=True, float_format='%.0f')"
   ]
  },
  {
   "cell_type": "code",
   "execution_count": null,
   "metadata": {},
   "outputs": [],
   "source": []
  }
 ],
 "metadata": {
  "kernelspec": {
   "display_name": "Python 3",
   "language": "python",
   "name": "python3"
  },
  "language_info": {
   "codemirror_mode": {
    "name": "ipython",
    "version": 3
   },
   "file_extension": ".py",
   "mimetype": "text/x-python",
   "name": "python",
   "nbconvert_exporter": "python",
   "pygments_lexer": "ipython3",
   "version": "3.12.2"
  }
 },
 "nbformat": 4,
 "nbformat_minor": 2
}
