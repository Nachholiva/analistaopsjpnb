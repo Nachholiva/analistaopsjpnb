{
 "cells": [
  {
   "cell_type": "markdown",
   "id": "e215154a-61c5-44f0-842d-4231183fc195",
   "metadata": {},
   "source": [
    "Analisis archivos de conciliación"
   ]
  },
  {
   "cell_type": "code",
   "execution_count": null,
   "id": "fa08de82-4a0b-4385-b4f6-6aa6b5ce38c4",
   "metadata": {},
   "outputs": [],
   "source": [
    "import sys\n",
    "import os\n",
    "import datetime\n",
    "import tkinter as tk\n",
    "from tkinter import filedialog\n",
    "import pandas as pd\n",
    "\n",
    "username = os.getlogin()            \n",
    "hoy = datetime.datetime.now()\n",
    "date_format = \"%d.%m.%Y\"\n",
    "date_formatexport = \"%d-%m-%Y\"\n",
    "date_formatcb = \"%d%m%Y\"\n",
    "fecha_actual = hoy.strftime(date_formatexport)\n",
    "fecha_cartola = hoy.strftime(date_format)\n",
    "\n",
    "lowmemory = False\n",
    "\n",
    "dfcb = pd.DataFrame\n",
    "\n",
    "folder_path = 'C:\\\\Users\\\\' + username + '\\\\Documents\\\\Py\\\\BECH CB\\\\\\ANALISIS CB'\n",
    "\n",
    "files = [f for f in os.listdir(folder_path) if f.endswith('.TXT')]\n",
    "df_list = []\n",
    "for file in files:\n",
    "    df = pd.read_table(os.path.join(folder_path, file),\n",
    "                index_col=None,\n",
    "                dtype='object',\n",
    "                sep=';',\n",
    "                header=None,\n",
    "                names=['saldoa', 'diames', 'operacion', 'ind', 'sucursal', 'tipoabono', 'nsucursal', 'descripcion',\n",
    "                      'monto', 'saldob', 'ind2', 'fecha', 'cuenta', 'blank1', 'blank2', 'blank3', 'blank4',\n",
    "                       'blank5'],\n",
    "                date_format = date_formatcb\n",
    "                )\n",
    "    df_list.append(df)\n",
    "dfcb = pd.concat(df_list)\n",
    "dfcb = dfcb.drop(columns=['blank1','blank2','blank3','blank4','blank5'])\n",
    "\n",
    "dfcb['fecha'] = pd.to_datetime(dfcb['fecha'],format=date_formatcb)\n",
    "dfcb = dfcb.sort_values(by='fecha')\n",
    "dfcb['fecha'] = dfcb['fecha'].dt.strftime(date_formatexport)\n",
    "\n",
    "dfcb['saldoa'] = dfcb['saldoa'].astype(float)\n",
    "dfcb['monto'] = dfcb['monto'].astype(float)\n",
    "dfcb['saldob'] = dfcb['saldob'].astype(float)\n",
    "dfcb['saldoa'] = dfcb['saldoa'].astype(int)\n",
    "dfcb['monto'] = dfcb['monto'].astype(int)\n",
    "dfcb['saldob'] = dfcb['saldob'].astype(int)\n",
    "\n",
    "print(\"Archivos cargados\")"
   ]
  },
  {
   "cell_type": "code",
   "execution_count": 4,
   "id": "44f795d4",
   "metadata": {},
   "outputs": [],
   "source": [
    "dfa = dfcb[~dfcb['tipoabono'].str.contains('C')]\n",
    "dfc = dfcb[~dfcb['tipoabono'].str.contains('A')]"
   ]
  },
  {
   "cell_type": "code",
   "execution_count": 3,
   "id": "2a8ba31b",
   "metadata": {},
   "outputs": [],
   "source": [
    "muestraex = dfa[dfa['monto'].astype(int) == ]\n",
    "#muestrarut = dfa[dfa['descripcion'].str.contains('') | dfa['descripcion'].str.contains('')]\n",
    "#print(muestraex)"
   ]
  },
  {
   "cell_type": "code",
   "execution_count": 2,
   "id": "99fb913d",
   "metadata": {},
   "outputs": [],
   "source": [
    "#muestraex = dfcb[dfcb['monto'].astype(int) == 49180]\n",
    "muestrajjd = dfcb[dfcb['descripcion'].str.contains('documento')]\n",
    "#print(muestraex)"
   ]
  },
  {
   "cell_type": "code",
   "execution_count": null,
   "id": "432ab8ec",
   "metadata": {},
   "outputs": [],
   "source": [
    "dfc.to_excel('C:\\\\Users\\\\' + username + '\\\\Documents\\\\Py\\\\JPNB\\\\GENERADOS\\\\CARGOS ' + fecha_actual + '.xlsx',\n",
    "            header=True,\n",
    "            index=False)"
   ]
  },
  {
   "cell_type": "code",
   "execution_count": null,
   "id": "757a09fc",
   "metadata": {},
   "outputs": [],
   "source": [
    "dfa.to_excel('C:\\\\Users\\\\' + username + '\\\\Documents\\\\Py\\\\JPNB\\\\GENERADOS\\\\ABONOS ' + fecha_actual + '.xlsx',\n",
    "            header=True,\n",
    "            index=False)"
   ]
  }
 ],
 "metadata": {
  "kernelspec": {
   "display_name": "base",
   "language": "python",
   "name": "python3"
  },
  "language_info": {
   "codemirror_mode": {
    "name": "ipython",
    "version": 3
   },
   "file_extension": ".py",
   "mimetype": "text/x-python",
   "name": "python",
   "nbconvert_exporter": "python",
   "pygments_lexer": "ipython3",
   "version": "3.11.7"
  }
 },
 "nbformat": 4,
 "nbformat_minor": 5
}
